{
 "cells": [
  {
   "cell_type": "code",
   "id": "initial_id",
   "metadata": {
    "collapsed": true,
    "ExecuteTime": {
     "end_time": "2025-01-19T16:12:13.771441Z",
     "start_time": "2025-01-19T16:12:13.766859Z"
    }
   },
   "source": "import tensorflow as tf",
   "outputs": [],
   "execution_count": 114
  },
  {
   "metadata": {
    "ExecuteTime": {
     "end_time": "2025-01-19T16:12:13.783066Z",
     "start_time": "2025-01-19T16:12:13.778454Z"
    }
   },
   "cell_type": "code",
   "source": [
    "import pandas as pd\n",
    "import numpy as np\n",
    "import matplotlib.pyplot as plt\n",
    "import keras\n",
    "from keras import models, layers, optimizers, callbacks"
   ],
   "id": "1df03ce6cacc24ff",
   "outputs": [],
   "execution_count": 115
  },
  {
   "metadata": {
    "ExecuteTime": {
     "end_time": "2025-01-19T16:12:13.800069Z",
     "start_time": "2025-01-19T16:12:13.795847Z"
    }
   },
   "cell_type": "code",
   "source": [
    "# url = 'https://raw.githubusercontent.com/lazyprogrammer/machine_learning_examples/master/tf2.0/moore.csv'\n",
    "# downloaded_file = wget.download(url)"
   ],
   "id": "f03f96f1989032e0",
   "outputs": [],
   "execution_count": 116
  },
  {
   "metadata": {
    "ExecuteTime": {
     "end_time": "2025-01-19T16:12:13.824730Z",
     "start_time": "2025-01-19T16:12:13.814532Z"
    }
   },
   "cell_type": "code",
   "source": [
    "moore_data = pd.read_csv('./../../../data/deep_learning_recurrent_neural_networks_in_python/section_3/moore.csv', header=None).to_numpy()\n",
    "# np.isinf(moore_data).any()\n",
    "moore_data"
   ],
   "id": "230803c4328cde74",
   "outputs": [
    {
     "data": {
      "text/plain": [
       "array([[       1971,        2300],\n",
       "       [       1972,        3500],\n",
       "       [       1973,        2500],\n",
       "       [       1973,        2500],\n",
       "       [       1974,        4100],\n",
       "       [       1974,        4500],\n",
       "       [       1974,        8000],\n",
       "       [       1975,        3510],\n",
       "       [       1976,        5000],\n",
       "       [       1976,        8500],\n",
       "       [       1976,        6500],\n",
       "       [       1978,        9000],\n",
       "       [       1978,       29000],\n",
       "       [       1979,       17500],\n",
       "       [       1979,       29000],\n",
       "       [       1979,       68000],\n",
       "       [       1981,       11500],\n",
       "       [       1982,       55000],\n",
       "       [       1982,      134000],\n",
       "       [       1983,       22000],\n",
       "       [       1984,       63000],\n",
       "       [       1984,      190000],\n",
       "       [       1985,      275000],\n",
       "       [       1985,       25000],\n",
       "       [       1985,       16000],\n",
       "       [       1986,      110000],\n",
       "       [       1986,      375000],\n",
       "       [       1986,       30000],\n",
       "       [       1987,      385000],\n",
       "       [       1987,      730000],\n",
       "       [       1987,      273000],\n",
       "       [       1987,      553000],\n",
       "       [       1988,      180000],\n",
       "       [       1988,      250000],\n",
       "       [       1989,      600000],\n",
       "       [       1989,     1000000],\n",
       "       [       1989,     1180235],\n",
       "       [       1989,      310000],\n",
       "       [       1990,     1200000],\n",
       "       [       1991,     1350000],\n",
       "       [       1991,       35000],\n",
       "       [       1992,      600000],\n",
       "       [       1992,      900000],\n",
       "       [       1993,     2800000],\n",
       "       [       1993,     3100000],\n",
       "       [       1994,      578977],\n",
       "       [       1994,     2500000],\n",
       "       [       1995,     2500000],\n",
       "       [       1999,      111000],\n",
       "       [       1995,     5500000],\n",
       "       [       1996,     4300000],\n",
       "       [       1997,    10000000],\n",
       "       [       1997,     7500000],\n",
       "       [       1997,     8800000],\n",
       "       [       1998,     7500000],\n",
       "       [       1999,     9500000],\n",
       "       [       1999,    13500000],\n",
       "       [       2000,    21000000],\n",
       "       [       2000,    21000000],\n",
       "       [       1999,    27400000],\n",
       "       [       1999,    21300000],\n",
       "       [       1999,    22000000],\n",
       "       [       2000,    42000000],\n",
       "       [       2001,   191000000],\n",
       "       [       2001,    45000000],\n",
       "       [       2002,    55000000],\n",
       "       [       2004,   112000000],\n",
       "       [       2004,   400000000],\n",
       "       [       2005,   169000000],\n",
       "       [       2006,   184000000],\n",
       "       [       2005,   228000000],\n",
       "       [       2006,   362000000],\n",
       "       [       2007,   540000000],\n",
       "       [       2008,    47000000],\n",
       "       [       2003,    54300000],\n",
       "       [       2003,   105900000],\n",
       "       [       2002,   220000000],\n",
       "       [       2005,   165000000],\n",
       "       [       2005,   250000000],\n",
       "       [       2006,   291000000],\n",
       "       [       2007,   169000000],\n",
       "       [       2003,   410000000],\n",
       "       [       2008,   600000000],\n",
       "       [       2009,   760000000],\n",
       "       [       2011,  1870000000],\n",
       "       [       2012,   432000000],\n",
       "       [       2007,   463000000],\n",
       "       [       2007,    26000000],\n",
       "       [       2008,   230000000],\n",
       "       [       2004,   592000000],\n",
       "       [       2007,   411000000],\n",
       "       [       2008,   731000000],\n",
       "       [       2008,   758000000],\n",
       "       [       2007,   789000000],\n",
       "       [       2009,   904000000],\n",
       "       [       2010,  1000000000],\n",
       "       [       2012,  2990000000],\n",
       "       [       2013,  1000000000],\n",
       "       [       2011,  1160000000],\n",
       "       [       2010,  1170000000],\n",
       "       [       2010,  1200000000],\n",
       "       [       2012,  1200000000],\n",
       "       [       2012,  1303000000],\n",
       "       [       2010,  1400000000],\n",
       "       [       2012,  1400000000],\n",
       "       [       2014,  1400000000],\n",
       "       [       2006,  1700000000],\n",
       "       [       2015,  1750000000],\n",
       "       [       2013,  1860000000],\n",
       "       [       2015,  1900000000],\n",
       "       [       2008,  1900000000],\n",
       "       [       2010,  2000000000],\n",
       "       [       2014,  2000000000],\n",
       "       [       2015,  2000000000],\n",
       "       [       2015,  3000000000],\n",
       "       [       2012,  2100000000],\n",
       "       [       2011,  2270000000],\n",
       "       [       2010,  2300000000],\n",
       "       [       2014,  2600000000],\n",
       "       [       2011,  2600000000],\n",
       "       [       2012,  2750000000],\n",
       "       [       2014,  3000000000],\n",
       "       [       2016,  3000000000],\n",
       "       [       2017,  5300000000],\n",
       "       [       2017,  5300000000],\n",
       "       [       2018,  8500000000],\n",
       "       [       2012,  3100000000],\n",
       "       [       2016,  3200000000],\n",
       "       [       2016,  3300000000],\n",
       "       [       2015,  3990000000],\n",
       "       [       2013,  4200000000],\n",
       "       [       2017,  4300000000],\n",
       "       [       2014,  4310000000],\n",
       "       [       2017,  4800000000],\n",
       "       [       2017,  4800000000],\n",
       "       [       2017,  4800000000],\n",
       "       [       2012,  5000000000],\n",
       "       [       2013,  5000000000],\n",
       "       [       2014,  5560000000],\n",
       "       [       2017,  6100000000],\n",
       "       [       2018,  6900000000],\n",
       "       [       2016,  4000000000],\n",
       "       [       2018,  6900000000],\n",
       "       [       2017,  5500000000],\n",
       "       [       2018,  5500000000],\n",
       "       [       2017,  7000000000],\n",
       "       [       2015,  7100000000],\n",
       "       [       2017,  8000000000],\n",
       "       [       2016,  7200000000],\n",
       "       [       2017,  8000000000],\n",
       "       [       2016,  8000000000],\n",
       "       [       2017,  9700000000],\n",
       "       [       2017,   250000000],\n",
       "       [       2015, 10000000000],\n",
       "       [       2017,  5450000000],\n",
       "       [       2018, 10000000000],\n",
       "       [       2017,  4300000000],\n",
       "       [       2017, 18000000000],\n",
       "       [       2017, 19200000000],\n",
       "       [       2018,  8876000000],\n",
       "       [       2018, 23600000000],\n",
       "       [       2018,  9000000000]])"
      ]
     },
     "execution_count": 117,
     "metadata": {},
     "output_type": "execute_result"
    }
   ],
   "execution_count": 117
  },
  {
   "metadata": {
    "ExecuteTime": {
     "end_time": "2025-01-19T16:12:13.884916Z",
     "start_time": "2025-01-19T16:12:13.878720Z"
    }
   },
   "cell_type": "code",
   "source": [
    "X = moore_data[:, 0].reshape(-1, 1)\n",
    "Y = moore_data[:, 1]\n",
    "\n",
    "print(X)"
   ],
   "id": "2ec897ecfae962bb",
   "outputs": [
    {
     "name": "stdout",
     "output_type": "stream",
     "text": [
      "[[1971]\n",
      " [1972]\n",
      " [1973]\n",
      " [1973]\n",
      " [1974]\n",
      " [1974]\n",
      " [1974]\n",
      " [1975]\n",
      " [1976]\n",
      " [1976]\n",
      " [1976]\n",
      " [1978]\n",
      " [1978]\n",
      " [1979]\n",
      " [1979]\n",
      " [1979]\n",
      " [1981]\n",
      " [1982]\n",
      " [1982]\n",
      " [1983]\n",
      " [1984]\n",
      " [1984]\n",
      " [1985]\n",
      " [1985]\n",
      " [1985]\n",
      " [1986]\n",
      " [1986]\n",
      " [1986]\n",
      " [1987]\n",
      " [1987]\n",
      " [1987]\n",
      " [1987]\n",
      " [1988]\n",
      " [1988]\n",
      " [1989]\n",
      " [1989]\n",
      " [1989]\n",
      " [1989]\n",
      " [1990]\n",
      " [1991]\n",
      " [1991]\n",
      " [1992]\n",
      " [1992]\n",
      " [1993]\n",
      " [1993]\n",
      " [1994]\n",
      " [1994]\n",
      " [1995]\n",
      " [1999]\n",
      " [1995]\n",
      " [1996]\n",
      " [1997]\n",
      " [1997]\n",
      " [1997]\n",
      " [1998]\n",
      " [1999]\n",
      " [1999]\n",
      " [2000]\n",
      " [2000]\n",
      " [1999]\n",
      " [1999]\n",
      " [1999]\n",
      " [2000]\n",
      " [2001]\n",
      " [2001]\n",
      " [2002]\n",
      " [2004]\n",
      " [2004]\n",
      " [2005]\n",
      " [2006]\n",
      " [2005]\n",
      " [2006]\n",
      " [2007]\n",
      " [2008]\n",
      " [2003]\n",
      " [2003]\n",
      " [2002]\n",
      " [2005]\n",
      " [2005]\n",
      " [2006]\n",
      " [2007]\n",
      " [2003]\n",
      " [2008]\n",
      " [2009]\n",
      " [2011]\n",
      " [2012]\n",
      " [2007]\n",
      " [2007]\n",
      " [2008]\n",
      " [2004]\n",
      " [2007]\n",
      " [2008]\n",
      " [2008]\n",
      " [2007]\n",
      " [2009]\n",
      " [2010]\n",
      " [2012]\n",
      " [2013]\n",
      " [2011]\n",
      " [2010]\n",
      " [2010]\n",
      " [2012]\n",
      " [2012]\n",
      " [2010]\n",
      " [2012]\n",
      " [2014]\n",
      " [2006]\n",
      " [2015]\n",
      " [2013]\n",
      " [2015]\n",
      " [2008]\n",
      " [2010]\n",
      " [2014]\n",
      " [2015]\n",
      " [2015]\n",
      " [2012]\n",
      " [2011]\n",
      " [2010]\n",
      " [2014]\n",
      " [2011]\n",
      " [2012]\n",
      " [2014]\n",
      " [2016]\n",
      " [2017]\n",
      " [2017]\n",
      " [2018]\n",
      " [2012]\n",
      " [2016]\n",
      " [2016]\n",
      " [2015]\n",
      " [2013]\n",
      " [2017]\n",
      " [2014]\n",
      " [2017]\n",
      " [2017]\n",
      " [2017]\n",
      " [2012]\n",
      " [2013]\n",
      " [2014]\n",
      " [2017]\n",
      " [2018]\n",
      " [2016]\n",
      " [2018]\n",
      " [2017]\n",
      " [2018]\n",
      " [2017]\n",
      " [2015]\n",
      " [2017]\n",
      " [2016]\n",
      " [2017]\n",
      " [2016]\n",
      " [2017]\n",
      " [2017]\n",
      " [2015]\n",
      " [2017]\n",
      " [2018]\n",
      " [2017]\n",
      " [2017]\n",
      " [2017]\n",
      " [2018]\n",
      " [2018]\n",
      " [2018]]\n"
     ]
    }
   ],
   "execution_count": 118
  },
  {
   "metadata": {
    "ExecuteTime": {
     "end_time": "2025-01-19T16:12:14.023275Z",
     "start_time": "2025-01-19T16:12:14.018930Z"
    }
   },
   "cell_type": "code",
   "source": "X = X-X.mean() # center the X values",
   "id": "1fb7f5df5f59918b",
   "outputs": [],
   "execution_count": 119
  },
  {
   "metadata": {
    "ExecuteTime": {
     "end_time": "2025-01-19T16:12:14.176867Z",
     "start_time": "2025-01-19T16:12:14.075289Z"
    }
   },
   "cell_type": "code",
   "source": "plt.scatter(X, Y)",
   "id": "4121f7ae6cce99a1",
   "outputs": [
    {
     "data": {
      "text/plain": [
       "<matplotlib.collections.PathCollection at 0x208f1d05fd0>"
      ]
     },
     "execution_count": 120,
     "metadata": {},
     "output_type": "execute_result"
    },
    {
     "data": {
      "text/plain": [
       "<Figure size 640x480 with 1 Axes>"
      ],
      "image/png": "[encoded data removed]"
     },
     "metadata": {},
     "output_type": "display_data"
    }
   ],
   "execution_count": 120
  },
  {
   "metadata": {
    "ExecuteTime": {
     "end_time": "2025-01-19T16:12:14.196306Z",
     "start_time": "2025-01-19T16:12:14.190530Z"
    }
   },
   "cell_type": "code",
   "source": "Y = np.log(Y) # log-transform the Y values removed its exponentiality",
   "id": "a9cf44332c80c464",
   "outputs": [],
   "execution_count": 121
  },
  {
   "metadata": {
    "ExecuteTime": {
     "end_time": "2025-01-19T16:12:14.331938Z",
     "start_time": "2025-01-19T16:12:14.224313Z"
    }
   },
   "cell_type": "code",
   "source": [
    "# Now we can see growth is linear\n",
    "plt.scatter(X, Y)"
   ],
   "id": "b8a0e03776e029f2",
   "outputs": [
    {
     "data": {
      "text/plain": [
       "<matplotlib.collections.PathCollection at 0x208f1bddb50>"
      ]
     },
     "execution_count": 122,
     "metadata": {},
     "output_type": "execute_result"
    },
    {
     "data": {
      "text/plain": [
       "<Figure size 640x480 with 1 Axes>"
      ],
      "image/png": "[encoded data removed]"
     },
     "metadata": {},
     "output_type": "display_data"
    }
   ],
   "execution_count": 122
  },
  {
   "metadata": {
    "ExecuteTime": {
     "end_time": "2025-01-19T16:12:14.367273Z",
     "start_time": "2025-01-19T16:12:14.353675Z"
    }
   },
   "cell_type": "code",
   "source": [
    "model = models.Sequential([\n",
    "    layers.Input(shape=(1, )),\n",
    "    layers.Dense(1)\n",
    "])"
   ],
   "id": "19b770a4f90efb85",
   "outputs": [],
   "execution_count": 123
  },
  {
   "metadata": {
    "ExecuteTime": {
     "end_time": "2025-01-19T16:12:14.389355Z",
     "start_time": "2025-01-19T16:12:14.380586Z"
    }
   },
   "cell_type": "code",
   "source": [
    "model.compile(\n",
    "    optimizer=optimizers.SGD(0.0001, 0.9),\n",
    "    loss='mse',\n",
    ")"
   ],
   "id": "565510bf21bc4268",
   "outputs": [],
   "execution_count": 124
  },
  {
   "metadata": {
    "ExecuteTime": {
     "end_time": "2025-01-19T16:12:14.438711Z",
     "start_time": "2025-01-19T16:12:14.433442Z"
    }
   },
   "cell_type": "code",
   "source": [
    "def schedule(epoch, lr):\n",
    "    if epoch >= 50:\n",
    "        return 0.0001\n",
    "    return 0.001\n",
    "\n",
    "scheduler = callbacks.LearningRateScheduler(schedule)"
   ],
   "id": "c8af4642026d4509",
   "outputs": [],
   "execution_count": 125
  },
  {
   "metadata": {
    "ExecuteTime": {
     "end_time": "2025-01-19T16:12:37.409221Z",
     "start_time": "2025-01-19T16:12:34.638361Z"
    }
   },
   "cell_type": "code",
   "source": [
    "# r = model.fit(X, Y, epochs=50)\n",
    "r = model.fit(X, Y, epochs=50, callbacks=[scheduler])"
   ],
   "id": "d0650eafb0a718d9",
   "outputs": [
    {
     "name": "stdout",
     "output_type": "stream",
     "text": [
      "Epoch 1/50\n",
      "\u001B[1m6/6\u001B[0m \u001B[32m━━━━━━━━━━━━━━━━━━━━\u001B[0m\u001B[37m\u001B[0m \u001B[1m0s\u001B[0m 5ms/step - loss: 280.4716 - learning_rate: 0.0010\n",
      "Epoch 2/50\n",
      "\u001B[1m6/6\u001B[0m \u001B[32m━━━━━━━━━━━━━━━━━━━━\u001B[0m\u001B[37m\u001B[0m \u001B[1m0s\u001B[0m 5ms/step - loss: 310.7027 - learning_rate: 0.0010\n",
      "Epoch 3/50\n",
      "\u001B[1m6/6\u001B[0m \u001B[32m━━━━━━━━━━━━━━━━━━━━\u001B[0m\u001B[37m\u001B[0m \u001B[1m0s\u001B[0m 5ms/step - loss: 229.4990 - learning_rate: 0.0010\n",
      "Epoch 4/50\n",
      "\u001B[1m6/6\u001B[0m \u001B[32m━━━━━━━━━━━━━━━━━━━━\u001B[0m\u001B[37m\u001B[0m \u001B[1m0s\u001B[0m 5ms/step - loss: 293.3553 - learning_rate: 0.0010\n",
      "Epoch 5/50\n",
      "\u001B[1m6/6\u001B[0m \u001B[32m━━━━━━━━━━━━━━━━━━━━\u001B[0m\u001B[37m\u001B[0m \u001B[1m0s\u001B[0m 5ms/step - loss: 241.2511 - learning_rate: 0.0010\n",
      "Epoch 6/50\n",
      "\u001B[1m6/6\u001B[0m \u001B[32m━━━━━━━━━━━━━━━━━━━━\u001B[0m\u001B[37m\u001B[0m \u001B[1m0s\u001B[0m 5ms/step - loss: 156.9837 - learning_rate: 0.0010\n",
      "Epoch 7/50\n",
      "\u001B[1m6/6\u001B[0m \u001B[32m━━━━━━━━━━━━━━━━━━━━\u001B[0m\u001B[37m\u001B[0m \u001B[1m0s\u001B[0m 5ms/step - loss: 137.5075 - learning_rate: 0.0010\n",
      "Epoch 8/50\n",
      "\u001B[1m6/6\u001B[0m \u001B[32m━━━━━━━━━━━━━━━━━━━━\u001B[0m\u001B[37m\u001B[0m \u001B[1m0s\u001B[0m 5ms/step - loss: 202.2822 - learning_rate: 0.0010\n",
      "Epoch 9/50\n",
      "\u001B[1m6/6\u001B[0m \u001B[32m━━━━━━━━━━━━━━━━━━━━\u001B[0m\u001B[37m\u001B[0m \u001B[1m0s\u001B[0m 5ms/step - loss: 141.3350 - learning_rate: 0.0010\n",
      "Epoch 10/50\n",
      "\u001B[1m6/6\u001B[0m \u001B[32m━━━━━━━━━━━━━━━━━━━━\u001B[0m\u001B[37m\u001B[0m \u001B[1m0s\u001B[0m 5ms/step - loss: 81.7797 - learning_rate: 0.0010\n",
      "Epoch 11/50\n",
      "\u001B[1m6/6\u001B[0m \u001B[32m━━━━━━━━━━━━━━━━━━━━\u001B[0m\u001B[37m\u001B[0m \u001B[1m0s\u001B[0m 5ms/step - loss: 30.7225 - learning_rate: 0.0010\n",
      "Epoch 12/50\n",
      "\u001B[1m6/6\u001B[0m \u001B[32m━━━━━━━━━━━━━━━━━━━━\u001B[0m\u001B[37m\u001B[0m \u001B[1m0s\u001B[0m 5ms/step - loss: 32.3834 - learning_rate: 0.0010\n",
      "Epoch 13/50\n",
      "\u001B[1m6/6\u001B[0m \u001B[32m━━━━━━━━━━━━━━━━━━━━\u001B[0m\u001B[37m\u001B[0m \u001B[1m0s\u001B[0m 5ms/step - loss: 29.2168 - learning_rate: 0.0010\n",
      "Epoch 14/50\n",
      "\u001B[1m6/6\u001B[0m \u001B[32m━━━━━━━━━━━━━━━━━━━━\u001B[0m\u001B[37m\u001B[0m \u001B[1m0s\u001B[0m 5ms/step - loss: 15.7648 - learning_rate: 0.0010\n",
      "Epoch 15/50\n",
      "\u001B[1m6/6\u001B[0m \u001B[32m━━━━━━━━━━━━━━━━━━━━\u001B[0m\u001B[37m\u001B[0m \u001B[1m0s\u001B[0m 5ms/step - loss: 10.6029 - learning_rate: 0.0010\n",
      "Epoch 16/50\n",
      "\u001B[1m6/6\u001B[0m \u001B[32m━━━━━━━━━━━━━━━━━━━━\u001B[0m\u001B[37m\u001B[0m \u001B[1m0s\u001B[0m 5ms/step - loss: 12.1173 - learning_rate: 0.0010\n",
      "Epoch 17/50\n",
      "\u001B[1m6/6\u001B[0m \u001B[32m━━━━━━━━━━━━━━━━━━━━\u001B[0m\u001B[37m\u001B[0m \u001B[1m0s\u001B[0m 5ms/step - loss: 11.8002 - learning_rate: 0.0010\n",
      "Epoch 18/50\n",
      "\u001B[1m6/6\u001B[0m \u001B[32m━━━━━━━━━━━━━━━━━━━━\u001B[0m\u001B[37m\u001B[0m \u001B[1m0s\u001B[0m 5ms/step - loss: 8.0404 - learning_rate: 0.0010\n",
      "Epoch 19/50\n",
      "\u001B[1m6/6\u001B[0m \u001B[32m━━━━━━━━━━━━━━━━━━━━\u001B[0m\u001B[37m\u001B[0m \u001B[1m0s\u001B[0m 5ms/step - loss: 7.5115 - learning_rate: 0.0010\n",
      "Epoch 20/50\n",
      "\u001B[1m6/6\u001B[0m \u001B[32m━━━━━━━━━━━━━━━━━━━━\u001B[0m\u001B[37m\u001B[0m \u001B[1m0s\u001B[0m 5ms/step - loss: 7.5278 - learning_rate: 0.0010\n",
      "Epoch 21/50\n",
      "\u001B[1m6/6\u001B[0m \u001B[32m━━━━━━━━━━━━━━━━━━━━\u001B[0m\u001B[37m\u001B[0m \u001B[1m0s\u001B[0m 5ms/step - loss: 6.2049 - learning_rate: 0.0010\n",
      "Epoch 22/50\n",
      "\u001B[1m6/6\u001B[0m \u001B[32m━━━━━━━━━━━━━━━━━━━━\u001B[0m\u001B[37m\u001B[0m \u001B[1m0s\u001B[0m 5ms/step - loss: 4.4119 - learning_rate: 0.0010\n",
      "Epoch 23/50\n",
      "\u001B[1m6/6\u001B[0m \u001B[32m━━━━━━━━━━━━━━━━━━━━\u001B[0m\u001B[37m\u001B[0m \u001B[1m0s\u001B[0m 5ms/step - loss: 7.4437 - learning_rate: 0.0010\n",
      "Epoch 24/50\n",
      "\u001B[1m6/6\u001B[0m \u001B[32m━━━━━━━━━━━━━━━━━━━━\u001B[0m\u001B[37m\u001B[0m \u001B[1m0s\u001B[0m 5ms/step - loss: 6.7817 - learning_rate: 0.0010\n",
      "Epoch 25/50\n",
      "\u001B[1m6/6\u001B[0m \u001B[32m━━━━━━━━━━━━━━━━━━━━\u001B[0m\u001B[37m\u001B[0m \u001B[1m0s\u001B[0m 5ms/step - loss: 3.4338 - learning_rate: 0.0010\n",
      "Epoch 26/50\n",
      "\u001B[1m6/6\u001B[0m \u001B[32m━━━━━━━━━━━━━━━━━━━━\u001B[0m\u001B[37m\u001B[0m \u001B[1m0s\u001B[0m 5ms/step - loss: 2.4304 - learning_rate: 0.0010\n",
      "Epoch 27/50\n",
      "\u001B[1m6/6\u001B[0m \u001B[32m━━━━━━━━━━━━━━━━━━━━\u001B[0m\u001B[37m\u001B[0m \u001B[1m0s\u001B[0m 5ms/step - loss: 2.4040 - learning_rate: 0.0010\n",
      "Epoch 28/50\n",
      "\u001B[1m6/6\u001B[0m \u001B[32m━━━━━━━━━━━━━━━━━━━━\u001B[0m\u001B[37m\u001B[0m \u001B[1m0s\u001B[0m 5ms/step - loss: 0.9474 - learning_rate: 0.0010\n",
      "Epoch 29/50\n",
      "\u001B[1m6/6\u001B[0m \u001B[32m━━━━━━━━━━━━━━━━━━━━\u001B[0m\u001B[37m\u001B[0m \u001B[1m0s\u001B[0m 5ms/step - loss: 1.0804 - learning_rate: 0.0010\n",
      "Epoch 30/50\n",
      "\u001B[1m6/6\u001B[0m \u001B[32m━━━━━━━━━━━━━━━━━━━━\u001B[0m\u001B[37m\u001B[0m \u001B[1m0s\u001B[0m 5ms/step - loss: 0.9451 - learning_rate: 0.0010\n",
      "Epoch 31/50\n",
      "\u001B[1m6/6\u001B[0m \u001B[32m━━━━━━━━━━━━━━━━━━━━\u001B[0m\u001B[37m\u001B[0m \u001B[1m0s\u001B[0m 5ms/step - loss: 1.0682 - learning_rate: 0.0010\n",
      "Epoch 32/50\n",
      "\u001B[1m6/6\u001B[0m \u001B[32m━━━━━━━━━━━━━━━━━━━━\u001B[0m\u001B[37m\u001B[0m \u001B[1m0s\u001B[0m 4ms/step - loss: 0.9200 - learning_rate: 0.0010\n",
      "Epoch 33/50\n",
      "\u001B[1m6/6\u001B[0m \u001B[32m━━━━━━━━━━━━━━━━━━━━\u001B[0m\u001B[37m\u001B[0m \u001B[1m0s\u001B[0m 5ms/step - loss: 1.1894 - learning_rate: 0.0010\n",
      "Epoch 34/50\n",
      "\u001B[1m6/6\u001B[0m \u001B[32m━━━━━━━━━━━━━━━━━━━━\u001B[0m\u001B[37m\u001B[0m \u001B[1m0s\u001B[0m 4ms/step - loss: 1.0135 - learning_rate: 0.0010\n",
      "Epoch 35/50\n",
      "\u001B[1m6/6\u001B[0m \u001B[32m━━━━━━━━━━━━━━━━━━━━\u001B[0m\u001B[37m\u001B[0m \u001B[1m0s\u001B[0m 5ms/step - loss: 0.8662 - learning_rate: 0.0010\n",
      "Epoch 36/50\n",
      "\u001B[1m6/6\u001B[0m \u001B[32m━━━━━━━━━━━━━━━━━━━━\u001B[0m\u001B[37m\u001B[0m \u001B[1m0s\u001B[0m 5ms/step - loss: 1.0312 - learning_rate: 0.0010\n",
      "Epoch 37/50\n",
      "\u001B[1m6/6\u001B[0m \u001B[32m━━━━━━━━━━━━━━━━━━━━\u001B[0m\u001B[37m\u001B[0m \u001B[1m0s\u001B[0m 5ms/step - loss: 0.9182 - learning_rate: 0.0010\n",
      "Epoch 38/50\n",
      "\u001B[1m6/6\u001B[0m \u001B[32m━━━━━━━━━━━━━━━━━━━━\u001B[0m\u001B[37m\u001B[0m \u001B[1m0s\u001B[0m 5ms/step - loss: 0.9673 - learning_rate: 0.0010\n",
      "Epoch 39/50\n",
      "\u001B[1m6/6\u001B[0m \u001B[32m━━━━━━━━━━━━━━━━━━━━\u001B[0m\u001B[37m\u001B[0m \u001B[1m0s\u001B[0m 5ms/step - loss: 0.7904 - learning_rate: 0.0010\n",
      "Epoch 40/50\n",
      "\u001B[1m6/6\u001B[0m \u001B[32m━━━━━━━━━━━━━━━━━━━━\u001B[0m\u001B[37m\u001B[0m \u001B[1m0s\u001B[0m 5ms/step - loss: 1.0955 - learning_rate: 0.0010\n",
      "Epoch 41/50\n",
      "\u001B[1m6/6\u001B[0m \u001B[32m━━━━━━━━━━━━━━━━━━━━\u001B[0m\u001B[37m\u001B[0m \u001B[1m0s\u001B[0m 5ms/step - loss: 0.8107 - learning_rate: 0.0010\n",
      "Epoch 42/50\n",
      "\u001B[1m6/6\u001B[0m \u001B[32m━━━━━━━━━━━━━━━━━━━━\u001B[0m\u001B[37m\u001B[0m \u001B[1m0s\u001B[0m 5ms/step - loss: 1.0198 - learning_rate: 0.0010\n",
      "Epoch 43/50\n",
      "\u001B[1m6/6\u001B[0m \u001B[32m━━━━━━━━━━━━━━━━━━━━\u001B[0m\u001B[37m\u001B[0m \u001B[1m0s\u001B[0m 5ms/step - loss: 0.7427 - learning_rate: 0.0010\n",
      "Epoch 44/50\n",
      "\u001B[1m6/6\u001B[0m \u001B[32m━━━━━━━━━━━━━━━━━━━━\u001B[0m\u001B[37m\u001B[0m \u001B[1m0s\u001B[0m 5ms/step - loss: 0.8147 - learning_rate: 0.0010\n",
      "Epoch 45/50\n",
      "\u001B[1m6/6\u001B[0m \u001B[32m━━━━━━━━━━━━━━━━━━━━\u001B[0m\u001B[37m\u001B[0m \u001B[1m0s\u001B[0m 5ms/step - loss: 0.7607 - learning_rate: 0.0010\n",
      "Epoch 46/50\n",
      "\u001B[1m6/6\u001B[0m \u001B[32m━━━━━━━━━━━━━━━━━━━━\u001B[0m\u001B[37m\u001B[0m \u001B[1m0s\u001B[0m 5ms/step - loss: 1.0306 - learning_rate: 0.0010\n",
      "Epoch 47/50\n",
      "\u001B[1m6/6\u001B[0m \u001B[32m━━━━━━━━━━━━━━━━━━━━\u001B[0m\u001B[37m\u001B[0m \u001B[1m0s\u001B[0m 5ms/step - loss: 1.1727 - learning_rate: 0.0010\n",
      "Epoch 48/50\n",
      "\u001B[1m6/6\u001B[0m \u001B[32m━━━━━━━━━━━━━━━━━━━━\u001B[0m\u001B[37m\u001B[0m \u001B[1m0s\u001B[0m 5ms/step - loss: 1.0834 - learning_rate: 0.0010\n",
      "Epoch 49/50\n",
      "\u001B[1m6/6\u001B[0m \u001B[32m━━━━━━━━━━━━━━━━━━━━\u001B[0m\u001B[37m\u001B[0m \u001B[1m0s\u001B[0m 5ms/step - loss: 1.2243 - learning_rate: 0.0010\n",
      "Epoch 50/50\n",
      "\u001B[1m6/6\u001B[0m \u001B[32m━━━━━━━━━━━━━━━━━━━━\u001B[0m\u001B[37m\u001B[0m \u001B[1m0s\u001B[0m 5ms/step - loss: 1.1264 - learning_rate: 0.0010\n"
     ]
    }
   ],
   "execution_count": 128
  },
  {
   "metadata": {
    "ExecuteTime": {
     "end_time": "2025-01-19T16:12:17.562971Z",
     "start_time": "2025-01-19T16:12:17.457585Z"
    }
   },
   "cell_type": "code",
   "source": [
    "plt.plot(r.history['loss'], label='loss')\n",
    "plt.legend()\n",
    "# plt.show()"
   ],
   "id": "f1122ae9452a3520",
   "outputs": [
    {
     "data": {
      "text/plain": [
       "<matplotlib.legend.Legend at 0x208f1bdec90>"
      ]
     },
     "execution_count": 127,
     "metadata": {},
     "output_type": "execute_result"
    },
    {
     "data": {
      "text/plain": [
       "<Figure size 640x480 with 1 Axes>"
      ],
      "image/png": "[encoded data removed]"
     },
     "metadata": {},
     "output_type": "display_data"
    }
   ],
   "execution_count": 127
  },
  {
   "metadata": {
    "ExecuteTime": {
     "end_time": "2025-01-19T16:13:50.722245Z",
     "start_time": "2025-01-19T16:13:50.712889Z"
    }
   },
   "cell_type": "code",
   "source": "model.layers[0].get_weights()",
   "id": "8ecdc18faf8b769f",
   "outputs": [
    {
     "data": {
      "text/plain": [
       "[array([[0.35005847]], dtype=float32), array([17.726437], dtype=float32)]"
      ]
     },
     "execution_count": 130,
     "metadata": {},
     "output_type": "execute_result"
    }
   ],
   "execution_count": 130
  },
  {
   "metadata": {
    "ExecuteTime": {
     "end_time": "2025-01-19T16:14:55.812725Z",
     "start_time": "2025-01-19T16:14:55.806042Z"
    }
   },
   "cell_type": "code",
   "source": [
    "a = model.layers[0].get_weights()[0][0, 0]\n",
    "a"
   ],
   "id": "df9eca9f127dd2ae",
   "outputs": [
    {
     "data": {
      "text/plain": [
       "np.float32(0.35005847)"
      ]
     },
     "execution_count": 131,
     "metadata": {},
     "output_type": "execute_result"
    }
   ],
   "execution_count": 131
  },
  {
   "metadata": {
    "ExecuteTime": {
     "end_time": "2025-01-19T16:49:18.465250Z",
     "start_time": "2025-01-19T16:49:18.459081Z"
    }
   },
   "cell_type": "code",
   "source": "print(\"Time to double:\", np.log(2)/a)",
   "id": "d30e8d80231ed668",
   "outputs": [
    {
     "name": "stdout",
     "output_type": "stream",
     "text": [
      "Time to double: 1.9800897492698506\n"
     ]
    }
   ],
   "execution_count": 132
  }
 ],
 "metadata": {
  "kernelspec": {
   "display_name": "Python 3",
   "language": "python",
   "name": "python3"
  },
  "language_info": {
   "codemirror_mode": {
    "name": "ipython",
    "version": 2
   },
   "file_extension": ".py",
   "mimetype": "text/x-python",
   "name": "python",
   "nbconvert_exporter": "python",
   "pygments_lexer": "ipython2",
   "version": "2.7.6"
  }
 },
 "nbformat": 4,
 "nbformat_minor": 5
}
