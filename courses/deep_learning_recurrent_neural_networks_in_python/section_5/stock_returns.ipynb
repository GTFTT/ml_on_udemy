{
 "cells": [
  {
   "cell_type": "code",
   "id": "initial_id",
   "metadata": {
    "collapsed": true,
    "ExecuteTime": {
     "end_time": "2025-02-03T06:41:36.016275Z",
     "start_time": "2025-02-03T06:41:30.846494Z"
    }
   },
   "source": [
    "import tensorflow as tf\n",
    "from keras import datasets, layers, callbacks, models, optimizers\n",
    "import numpy as np\n",
    "import matplotlib.pyplot as plt\n",
    "import pandas as pd\n",
    "from sklearn.preprocessing import StandardScaler"
   ],
   "outputs": [],
   "execution_count": 1
  },
  {
   "metadata": {
    "ExecuteTime": {
     "end_time": "2025-02-03T06:41:36.329973Z",
     "start_time": "2025-02-03T06:41:36.021275Z"
    }
   },
   "cell_type": "code",
   "source": "df = pd.read_csv('https://raw.githubusercontent.com/lazyprogrammer/machine_learning_examples/master/tf2.0/sbux.csv')",
   "id": "b093893b9f2d9d04",
   "outputs": [],
   "execution_count": 2
  },
  {
   "metadata": {
    "ExecuteTime": {
     "end_time": "2025-02-03T06:41:36.372575Z",
     "start_time": "2025-02-03T06:41:36.359022Z"
    }
   },
   "cell_type": "code",
   "source": "df.head()",
   "id": "ef2d10ca024fb8fc",
   "outputs": [
    {
     "data": {
      "text/plain": [
       "         date    open    high     low   close   volume  Name\n",
       "0  2013-02-08  27.920  28.325  27.920  28.185  7146296  SBUX\n",
       "1  2013-02-11  28.260  28.260  27.930  28.070  5457354  SBUX\n",
       "2  2013-02-12  28.000  28.275  27.975  28.130  8665592  SBUX\n",
       "3  2013-02-13  28.230  28.230  27.750  27.915  7022056  SBUX\n",
       "4  2013-02-14  27.765  27.905  27.675  27.775  8899188  SBUX"
      ],
      "text/html": [
       "<div>\n",
       "<style scoped>\n",
       "    .dataframe tbody tr th:only-of-type {\n",
       "        vertical-align: middle;\n",
       "    }\n",
       "\n",
       "    .dataframe tbody tr th {\n",
       "        vertical-align: top;\n",
       "    }\n",
       "\n",
       "    .dataframe thead th {\n",
       "        text-align: right;\n",
       "    }\n",
       "</style>\n",
       "<table border=\"1\" class=\"dataframe\">\n",
       "  <thead>\n",
       "    <tr style=\"text-align: right;\">\n",
       "      <th></th>\n",
       "      <th>date</th>\n",
       "      <th>open</th>\n",
       "      <th>high</th>\n",
       "      <th>low</th>\n",
       "      <th>close</th>\n",
       "      <th>volume</th>\n",
       "      <th>Name</th>\n",
       "    </tr>\n",
       "  </thead>\n",
       "  <tbody>\n",
       "    <tr>\n",
       "      <th>0</th>\n",
       "      <td>2013-02-08</td>\n",
       "      <td>27.920</td>\n",
       "      <td>28.325</td>\n",
       "      <td>27.920</td>\n",
       "      <td>28.185</td>\n",
       "      <td>7146296</td>\n",
       "      <td>SBUX</td>\n",
       "    </tr>\n",
       "    <tr>\n",
       "      <th>1</th>\n",
       "      <td>2013-02-11</td>\n",
       "      <td>28.260</td>\n",
       "      <td>28.260</td>\n",
       "      <td>27.930</td>\n",
       "      <td>28.070</td>\n",
       "      <td>5457354</td>\n",
       "      <td>SBUX</td>\n",
       "    </tr>\n",
       "    <tr>\n",
       "      <th>2</th>\n",
       "      <td>2013-02-12</td>\n",
       "      <td>28.000</td>\n",
       "      <td>28.275</td>\n",
       "      <td>27.975</td>\n",
       "      <td>28.130</td>\n",
       "      <td>8665592</td>\n",
       "      <td>SBUX</td>\n",
       "    </tr>\n",
       "    <tr>\n",
       "      <th>3</th>\n",
       "      <td>2013-02-13</td>\n",
       "      <td>28.230</td>\n",
       "      <td>28.230</td>\n",
       "      <td>27.750</td>\n",
       "      <td>27.915</td>\n",
       "      <td>7022056</td>\n",
       "      <td>SBUX</td>\n",
       "    </tr>\n",
       "    <tr>\n",
       "      <th>4</th>\n",
       "      <td>2013-02-14</td>\n",
       "      <td>27.765</td>\n",
       "      <td>27.905</td>\n",
       "      <td>27.675</td>\n",
       "      <td>27.775</td>\n",
       "      <td>8899188</td>\n",
       "      <td>SBUX</td>\n",
       "    </tr>\n",
       "  </tbody>\n",
       "</table>\n",
       "</div>"
      ]
     },
     "execution_count": 3,
     "metadata": {},
     "output_type": "execute_result"
    }
   ],
   "execution_count": 3
  },
  {
   "metadata": {
    "ExecuteTime": {
     "end_time": "2025-02-03T06:41:36.430423Z",
     "start_time": "2025-02-03T06:41:36.418890Z"
    }
   },
   "cell_type": "code",
   "source": "df.tail()",
   "id": "45b5652928057d8f",
   "outputs": [
    {
     "data": {
      "text/plain": [
       "            date    open   high    low  close    volume  Name\n",
       "1254  2018-02-01  56.280  56.42  55.89  56.00  14690146  SBUX\n",
       "1255  2018-02-02  55.900  56.32  55.70  55.77  15358909  SBUX\n",
       "1256  2018-02-05  55.530  56.26  54.57  54.69  16059955  SBUX\n",
       "1257  2018-02-06  53.685  56.06  53.56  55.61  17415065  SBUX\n",
       "1258  2018-02-07  55.080  55.43  54.44  54.46  13927022  SBUX"
      ],
      "text/html": [
       "<div>\n",
       "<style scoped>\n",
       "    .dataframe tbody tr th:only-of-type {\n",
       "        vertical-align: middle;\n",
       "    }\n",
       "\n",
       "    .dataframe tbody tr th {\n",
       "        vertical-align: top;\n",
       "    }\n",
       "\n",
       "    .dataframe thead th {\n",
       "        text-align: right;\n",
       "    }\n",
       "</style>\n",
       "<table border=\"1\" class=\"dataframe\">\n",
       "  <thead>\n",
       "    <tr style=\"text-align: right;\">\n",
       "      <th></th>\n",
       "      <th>date</th>\n",
       "      <th>open</th>\n",
       "      <th>high</th>\n",
       "      <th>low</th>\n",
       "      <th>close</th>\n",
       "      <th>volume</th>\n",
       "      <th>Name</th>\n",
       "    </tr>\n",
       "  </thead>\n",
       "  <tbody>\n",
       "    <tr>\n",
       "      <th>1254</th>\n",
       "      <td>2018-02-01</td>\n",
       "      <td>56.280</td>\n",
       "      <td>56.42</td>\n",
       "      <td>55.89</td>\n",
       "      <td>56.00</td>\n",
       "      <td>14690146</td>\n",
       "      <td>SBUX</td>\n",
       "    </tr>\n",
       "    <tr>\n",
       "      <th>1255</th>\n",
       "      <td>2018-02-02</td>\n",
       "      <td>55.900</td>\n",
       "      <td>56.32</td>\n",
       "      <td>55.70</td>\n",
       "      <td>55.77</td>\n",
       "      <td>15358909</td>\n",
       "      <td>SBUX</td>\n",
       "    </tr>\n",
       "    <tr>\n",
       "      <th>1256</th>\n",
       "      <td>2018-02-05</td>\n",
       "      <td>55.530</td>\n",
       "      <td>56.26</td>\n",
       "      <td>54.57</td>\n",
       "      <td>54.69</td>\n",
       "      <td>16059955</td>\n",
       "      <td>SBUX</td>\n",
       "    </tr>\n",
       "    <tr>\n",
       "      <th>1257</th>\n",
       "      <td>2018-02-06</td>\n",
       "      <td>53.685</td>\n",
       "      <td>56.06</td>\n",
       "      <td>53.56</td>\n",
       "      <td>55.61</td>\n",
       "      <td>17415065</td>\n",
       "      <td>SBUX</td>\n",
       "    </tr>\n",
       "    <tr>\n",
       "      <th>1258</th>\n",
       "      <td>2018-02-07</td>\n",
       "      <td>55.080</td>\n",
       "      <td>55.43</td>\n",
       "      <td>54.44</td>\n",
       "      <td>54.46</td>\n",
       "      <td>13927022</td>\n",
       "      <td>SBUX</td>\n",
       "    </tr>\n",
       "  </tbody>\n",
       "</table>\n",
       "</div>"
      ]
     },
     "execution_count": 4,
     "metadata": {},
     "output_type": "execute_result"
    }
   ],
   "execution_count": 4
  },
  {
   "metadata": {
    "ExecuteTime": {
     "end_time": "2025-02-03T06:41:36.510223Z",
     "start_time": "2025-02-03T06:41:36.504578Z"
    }
   },
   "cell_type": "code",
   "source": "series = df['close'].values.reshape(-1, 1)",
   "id": "67aeb8d97a4e54d3",
   "outputs": [],
   "execution_count": 5
  },
  {
   "metadata": {
    "ExecuteTime": {
     "end_time": "2025-02-03T06:41:36.636188Z",
     "start_time": "2025-02-03T06:41:36.629229Z"
    }
   },
   "cell_type": "code",
   "source": [
    "scaler = StandardScaler()\n",
    "scaler.fit(series[:len(series)//2])\n",
    "series = scaler.transform(series).flatten()"
   ],
   "id": "1757548f4ea30fef",
   "outputs": [],
   "execution_count": 6
  },
  {
   "metadata": {
    "ExecuteTime": {
     "end_time": "2025-02-03T06:41:36.726712Z",
     "start_time": "2025-02-03T06:41:36.715549Z"
    }
   },
   "cell_type": "code",
   "source": [
    "T = 10\n",
    "D = 1\n",
    "X = []\n",
    "Y = []\n",
    "\n",
    "for t in range(len(series) - T):\n",
    "    x = series[t:t+T]\n",
    "    X.append(x)\n",
    "    y = series[t+T]\n",
    "    Y.append(y)\n",
    "\n",
    "X = np.array(X).reshape(-1, T, 1)\n",
    "Y = np.array(Y)\n",
    "N = len(X)\n",
    "\n",
    "print('X shape:', np.array(X).shape)\n",
    "print('Y shape:', np.array(Y).shape)"
   ],
   "id": "30d0c5e869338bbf",
   "outputs": [
    {
     "name": "stdout",
     "output_type": "stream",
     "text": [
      "X shape: (1249, 10, 1)\n",
      "Y shape: (1249,)\n"
     ]
    }
   ],
   "execution_count": 7
  },
  {
   "metadata": {
    "ExecuteTime": {
     "end_time": "2025-02-03T06:41:52.832289Z",
     "start_time": "2025-02-03T06:41:36.787668Z"
    }
   },
   "cell_type": "code",
   "source": [
    "i = layers.Input(shape=(T, D))\n",
    "x = layers.LSTM(5, activation='relu')(i)\n",
    "x = layers.Dense(1)(x)\n",
    "model = models.Model(i, x)\n",
    "\n",
    "model.compile(\n",
    "    optimizer=optimizers.Adam(0.1),\n",
    "    loss='mse'\n",
    ")\n",
    "\n",
    "r = model.fit(\n",
    "    X[:-N//2], Y[:-N//2],\n",
    "    epochs=80,\n",
    "    validation_data=(X[-N//2:], Y[-N//2:])\n",
    ")"
   ],
   "id": "70dfc28fe831f047",
   "outputs": [
    {
     "name": "stdout",
     "output_type": "stream",
     "text": [
      "Epoch 1/80\n",
      "\u001B[1m20/20\u001B[0m \u001B[32m━━━━━━━━━━━━━━━━━━━━\u001B[0m\u001B[37m\u001B[0m \u001B[1m2s\u001B[0m 18ms/step - loss: 0.9960 - val_loss: 4.5211\n",
      "Epoch 2/80\n",
      "\u001B[1m20/20\u001B[0m \u001B[32m━━━━━━━━━━━━━━━━━━━━\u001B[0m\u001B[37m\u001B[0m \u001B[1m0s\u001B[0m 7ms/step - loss: 0.2728 - val_loss: 1.5294\n",
      "Epoch 3/80\n",
      "\u001B[1m20/20\u001B[0m \u001B[32m━━━━━━━━━━━━━━━━━━━━\u001B[0m\u001B[37m\u001B[0m \u001B[1m0s\u001B[0m 7ms/step - loss: 0.0556 - val_loss: 0.5674\n",
      "Epoch 4/80\n",
      "\u001B[1m20/20\u001B[0m \u001B[32m━━━━━━━━━━━━━━━━━━━━\u001B[0m\u001B[37m\u001B[0m \u001B[1m0s\u001B[0m 7ms/step - loss: 0.0193 - val_loss: 0.3045\n",
      "Epoch 5/80\n",
      "\u001B[1m20/20\u001B[0m \u001B[32m━━━━━━━━━━━━━━━━━━━━\u001B[0m\u001B[37m\u001B[0m \u001B[1m0s\u001B[0m 7ms/step - loss: 0.0117 - val_loss: 0.2127\n",
      "Epoch 6/80\n",
      "\u001B[1m20/20\u001B[0m \u001B[32m━━━━━━━━━━━━━━━━━━━━\u001B[0m\u001B[37m\u001B[0m \u001B[1m0s\u001B[0m 8ms/step - loss: 0.0099 - val_loss: 0.1762\n",
      "Epoch 7/80\n",
      "\u001B[1m20/20\u001B[0m \u001B[32m━━━━━━━━━━━━━━━━━━━━\u001B[0m\u001B[37m\u001B[0m \u001B[1m0s\u001B[0m 7ms/step - loss: 0.0066 - val_loss: 0.1465\n",
      "Epoch 8/80\n",
      "\u001B[1m20/20\u001B[0m \u001B[32m━━━━━━━━━━━━━━━━━━━━\u001B[0m\u001B[37m\u001B[0m \u001B[1m0s\u001B[0m 7ms/step - loss: 0.0060 - val_loss: 0.1271\n",
      "Epoch 9/80\n",
      "\u001B[1m20/20\u001B[0m \u001B[32m━━━━━━━━━━━━━━━━━━━━\u001B[0m\u001B[37m\u001B[0m \u001B[1m0s\u001B[0m 7ms/step - loss: 0.0118 - val_loss: 0.1232\n",
      "Epoch 10/80\n",
      "\u001B[1m20/20\u001B[0m \u001B[32m━━━━━━━━━━━━━━━━━━━━\u001B[0m\u001B[37m\u001B[0m \u001B[1m0s\u001B[0m 7ms/step - loss: 0.0073 - val_loss: 0.1193\n",
      "Epoch 11/80\n",
      "\u001B[1m20/20\u001B[0m \u001B[32m━━━━━━━━━━━━━━━━━━━━\u001B[0m\u001B[37m\u001B[0m \u001B[1m0s\u001B[0m 7ms/step - loss: 0.0087 - val_loss: 0.1099\n",
      "Epoch 12/80\n",
      "\u001B[1m20/20\u001B[0m \u001B[32m━━━━━━━━━━━━━━━━━━━━\u001B[0m\u001B[37m\u001B[0m \u001B[1m0s\u001B[0m 7ms/step - loss: 0.0077 - val_loss: 0.1074\n",
      "Epoch 13/80\n",
      "\u001B[1m20/20\u001B[0m \u001B[32m━━━━━━━━━━━━━━━━━━━━\u001B[0m\u001B[37m\u001B[0m \u001B[1m0s\u001B[0m 7ms/step - loss: 0.0065 - val_loss: 0.1028\n",
      "Epoch 14/80\n",
      "\u001B[1m20/20\u001B[0m \u001B[32m━━━━━━━━━━━━━━━━━━━━\u001B[0m\u001B[37m\u001B[0m \u001B[1m0s\u001B[0m 8ms/step - loss: 0.0064 - val_loss: 0.0977\n",
      "Epoch 15/80\n",
      "\u001B[1m20/20\u001B[0m \u001B[32m━━━━━━━━━━━━━━━━━━━━\u001B[0m\u001B[37m\u001B[0m \u001B[1m0s\u001B[0m 7ms/step - loss: 0.0095 - val_loss: 0.0991\n",
      "Epoch 16/80\n",
      "\u001B[1m20/20\u001B[0m \u001B[32m━━━━━━━━━━━━━━━━━━━━\u001B[0m\u001B[37m\u001B[0m \u001B[1m0s\u001B[0m 7ms/step - loss: 0.0083 - val_loss: 0.1076\n",
      "Epoch 17/80\n",
      "\u001B[1m20/20\u001B[0m \u001B[32m━━━━━━━━━━━━━━━━━━━━\u001B[0m\u001B[37m\u001B[0m \u001B[1m0s\u001B[0m 7ms/step - loss: 0.0058 - val_loss: 0.1022\n",
      "Epoch 18/80\n",
      "\u001B[1m20/20\u001B[0m \u001B[32m━━━━━━━━━━━━━━━━━━━━\u001B[0m\u001B[37m\u001B[0m \u001B[1m0s\u001B[0m 7ms/step - loss: 0.0093 - val_loss: 0.1043\n",
      "Epoch 19/80\n",
      "\u001B[1m20/20\u001B[0m \u001B[32m━━━━━━━━━━━━━━━━━━━━\u001B[0m\u001B[37m\u001B[0m \u001B[1m0s\u001B[0m 7ms/step - loss: 0.0089 - val_loss: 0.1091\n",
      "Epoch 20/80\n",
      "\u001B[1m20/20\u001B[0m \u001B[32m━━━━━━━━━━━━━━━━━━━━\u001B[0m\u001B[37m\u001B[0m \u001B[1m0s\u001B[0m 8ms/step - loss: 0.0066 - val_loss: 0.0991\n",
      "Epoch 21/80\n",
      "\u001B[1m20/20\u001B[0m \u001B[32m━━━━━━━━━━━━━━━━━━━━\u001B[0m\u001B[37m\u001B[0m \u001B[1m0s\u001B[0m 7ms/step - loss: 0.0071 - val_loss: 0.0960\n",
      "Epoch 22/80\n",
      "\u001B[1m20/20\u001B[0m \u001B[32m━━━━━━━━━━━━━━━━━━━━\u001B[0m\u001B[37m\u001B[0m \u001B[1m0s\u001B[0m 8ms/step - loss: 0.0071 - val_loss: 0.0942\n",
      "Epoch 23/80\n",
      "\u001B[1m20/20\u001B[0m \u001B[32m━━━━━━━━━━━━━━━━━━━━\u001B[0m\u001B[37m\u001B[0m \u001B[1m0s\u001B[0m 8ms/step - loss: 0.0087 - val_loss: 0.0962\n",
      "Epoch 24/80\n",
      "\u001B[1m20/20\u001B[0m \u001B[32m━━━━━━━━━━━━━━━━━━━━\u001B[0m\u001B[37m\u001B[0m \u001B[1m0s\u001B[0m 7ms/step - loss: 0.0091 - val_loss: 0.1007\n",
      "Epoch 25/80\n",
      "\u001B[1m20/20\u001B[0m \u001B[32m━━━━━━━━━━━━━━━━━━━━\u001B[0m\u001B[37m\u001B[0m \u001B[1m0s\u001B[0m 7ms/step - loss: 0.0069 - val_loss: 0.0918\n",
      "Epoch 26/80\n",
      "\u001B[1m20/20\u001B[0m \u001B[32m━━━━━━━━━━━━━━━━━━━━\u001B[0m\u001B[37m\u001B[0m \u001B[1m0s\u001B[0m 8ms/step - loss: 0.0055 - val_loss: 0.0907\n",
      "Epoch 27/80\n",
      "\u001B[1m20/20\u001B[0m \u001B[32m━━━━━━━━━━━━━━━━━━━━\u001B[0m\u001B[37m\u001B[0m \u001B[1m0s\u001B[0m 7ms/step - loss: 0.0090 - val_loss: 0.0900\n",
      "Epoch 28/80\n",
      "\u001B[1m20/20\u001B[0m \u001B[32m━━━━━━━━━━━━━━━━━━━━\u001B[0m\u001B[37m\u001B[0m \u001B[1m0s\u001B[0m 7ms/step - loss: 0.0086 - val_loss: 0.1064\n",
      "Epoch 29/80\n",
      "\u001B[1m20/20\u001B[0m \u001B[32m━━━━━━━━━━━━━━━━━━━━\u001B[0m\u001B[37m\u001B[0m \u001B[1m0s\u001B[0m 8ms/step - loss: 0.0076 - val_loss: 0.0923\n",
      "Epoch 30/80\n",
      "\u001B[1m20/20\u001B[0m \u001B[32m━━━━━━━━━━━━━━━━━━━━\u001B[0m\u001B[37m\u001B[0m \u001B[1m0s\u001B[0m 8ms/step - loss: 0.0056 - val_loss: 0.0890\n",
      "Epoch 31/80\n",
      "\u001B[1m20/20\u001B[0m \u001B[32m━━━━━━━━━━━━━━━━━━━━\u001B[0m\u001B[37m\u001B[0m \u001B[1m0s\u001B[0m 7ms/step - loss: 0.0068 - val_loss: 0.0872\n",
      "Epoch 32/80\n",
      "\u001B[1m20/20\u001B[0m \u001B[32m━━━━━━━━━━━━━━━━━━━━\u001B[0m\u001B[37m\u001B[0m \u001B[1m0s\u001B[0m 7ms/step - loss: 0.0058 - val_loss: 0.0845\n",
      "Epoch 33/80\n",
      "\u001B[1m20/20\u001B[0m \u001B[32m━━━━━━━━━━━━━━━━━━━━\u001B[0m\u001B[37m\u001B[0m \u001B[1m0s\u001B[0m 8ms/step - loss: 0.0091 - val_loss: 0.0860\n",
      "Epoch 34/80\n",
      "\u001B[1m20/20\u001B[0m \u001B[32m━━━━━━━━━━━━━━━━━━━━\u001B[0m\u001B[37m\u001B[0m \u001B[1m0s\u001B[0m 7ms/step - loss: 0.0080 - val_loss: 0.0912\n",
      "Epoch 35/80\n",
      "\u001B[1m20/20\u001B[0m \u001B[32m━━━━━━━━━━━━━━━━━━━━\u001B[0m\u001B[37m\u001B[0m \u001B[1m0s\u001B[0m 7ms/step - loss: 0.0108 - val_loss: 0.0970\n",
      "Epoch 36/80\n",
      "\u001B[1m20/20\u001B[0m \u001B[32m━━━━━━━━━━━━━━━━━━━━\u001B[0m\u001B[37m\u001B[0m \u001B[1m0s\u001B[0m 9ms/step - loss: 0.0077 - val_loss: 0.0976\n",
      "Epoch 37/80\n",
      "\u001B[1m20/20\u001B[0m \u001B[32m━━━━━━━━━━━━━━━━━━━━\u001B[0m\u001B[37m\u001B[0m \u001B[1m0s\u001B[0m 9ms/step - loss: 0.0061 - val_loss: 0.0928\n",
      "Epoch 38/80\n",
      "\u001B[1m20/20\u001B[0m \u001B[32m━━━━━━━━━━━━━━━━━━━━\u001B[0m\u001B[37m\u001B[0m \u001B[1m0s\u001B[0m 9ms/step - loss: 0.0056 - val_loss: 0.0867\n",
      "Epoch 39/80\n",
      "\u001B[1m20/20\u001B[0m \u001B[32m━━━━━━━━━━━━━━━━━━━━\u001B[0m\u001B[37m\u001B[0m \u001B[1m0s\u001B[0m 8ms/step - loss: 0.0060 - val_loss: 0.0877\n",
      "Epoch 40/80\n",
      "\u001B[1m20/20\u001B[0m \u001B[32m━━━━━━━━━━━━━━━━━━━━\u001B[0m\u001B[37m\u001B[0m \u001B[1m0s\u001B[0m 9ms/step - loss: 0.0054 - val_loss: 0.0867\n",
      "Epoch 41/80\n",
      "\u001B[1m20/20\u001B[0m \u001B[32m━━━━━━━━━━━━━━━━━━━━\u001B[0m\u001B[37m\u001B[0m \u001B[1m0s\u001B[0m 8ms/step - loss: 0.0073 - val_loss: 0.0783\n",
      "Epoch 42/80\n",
      "\u001B[1m20/20\u001B[0m \u001B[32m━━━━━━━━━━━━━━━━━━━━\u001B[0m\u001B[37m\u001B[0m \u001B[1m0s\u001B[0m 8ms/step - loss: 0.0067 - val_loss: 0.0920\n",
      "Epoch 43/80\n",
      "\u001B[1m20/20\u001B[0m \u001B[32m━━━━━━━━━━━━━━━━━━━━\u001B[0m\u001B[37m\u001B[0m \u001B[1m0s\u001B[0m 7ms/step - loss: 0.0081 - val_loss: 0.0845\n",
      "Epoch 44/80\n",
      "\u001B[1m20/20\u001B[0m \u001B[32m━━━━━━━━━━━━━━━━━━━━\u001B[0m\u001B[37m\u001B[0m \u001B[1m0s\u001B[0m 9ms/step - loss: 0.0075 - val_loss: 0.0876\n",
      "Epoch 45/80\n",
      "\u001B[1m20/20\u001B[0m \u001B[32m━━━━━━━━━━━━━━━━━━━━\u001B[0m\u001B[37m\u001B[0m \u001B[1m0s\u001B[0m 8ms/step - loss: 0.0073 - val_loss: 0.0907\n",
      "Epoch 46/80\n",
      "\u001B[1m20/20\u001B[0m \u001B[32m━━━━━━━━━━━━━━━━━━━━\u001B[0m\u001B[37m\u001B[0m \u001B[1m0s\u001B[0m 8ms/step - loss: 0.0069 - val_loss: 0.0868\n",
      "Epoch 47/80\n",
      "\u001B[1m20/20\u001B[0m \u001B[32m━━━━━━━━━━━━━━━━━━━━\u001B[0m\u001B[37m\u001B[0m \u001B[1m0s\u001B[0m 7ms/step - loss: 0.0085 - val_loss: 0.0871\n",
      "Epoch 48/80\n",
      "\u001B[1m20/20\u001B[0m \u001B[32m━━━━━━━━━━━━━━━━━━━━\u001B[0m\u001B[37m\u001B[0m \u001B[1m0s\u001B[0m 7ms/step - loss: 0.0072 - val_loss: 0.0951\n",
      "Epoch 49/80\n",
      "\u001B[1m20/20\u001B[0m \u001B[32m━━━━━━━━━━━━━━━━━━━━\u001B[0m\u001B[37m\u001B[0m \u001B[1m0s\u001B[0m 8ms/step - loss: 0.0110 - val_loss: 0.0929\n",
      "Epoch 50/80\n",
      "\u001B[1m20/20\u001B[0m \u001B[32m━━━━━━━━━━━━━━━━━━━━\u001B[0m\u001B[37m\u001B[0m \u001B[1m0s\u001B[0m 7ms/step - loss: 0.0076 - val_loss: 0.0905\n",
      "Epoch 51/80\n",
      "\u001B[1m20/20\u001B[0m \u001B[32m━━━━━━━━━━━━━━━━━━━━\u001B[0m\u001B[37m\u001B[0m \u001B[1m0s\u001B[0m 13ms/step - loss: 0.0058 - val_loss: 0.0905\n",
      "Epoch 52/80\n",
      "\u001B[1m20/20\u001B[0m \u001B[32m━━━━━━━━━━━━━━━━━━━━\u001B[0m\u001B[37m\u001B[0m \u001B[1m0s\u001B[0m 8ms/step - loss: 0.0074 - val_loss: 0.0883\n",
      "Epoch 53/80\n",
      "\u001B[1m20/20\u001B[0m \u001B[32m━━━━━━━━━━━━━━━━━━━━\u001B[0m\u001B[37m\u001B[0m \u001B[1m0s\u001B[0m 8ms/step - loss: 0.0057 - val_loss: 0.0857\n",
      "Epoch 54/80\n",
      "\u001B[1m20/20\u001B[0m \u001B[32m━━━━━━━━━━━━━━━━━━━━\u001B[0m\u001B[37m\u001B[0m \u001B[1m0s\u001B[0m 7ms/step - loss: 0.0080 - val_loss: 0.0867\n",
      "Epoch 55/80\n",
      "\u001B[1m20/20\u001B[0m \u001B[32m━━━━━━━━━━━━━━━━━━━━\u001B[0m\u001B[37m\u001B[0m \u001B[1m0s\u001B[0m 7ms/step - loss: 0.0141 - val_loss: 0.1068\n",
      "Epoch 56/80\n",
      "\u001B[1m20/20\u001B[0m \u001B[32m━━━━━━━━━━━━━━━━━━━━\u001B[0m\u001B[37m\u001B[0m \u001B[1m0s\u001B[0m 7ms/step - loss: 0.0074 - val_loss: 0.1061\n",
      "Epoch 57/80\n",
      "\u001B[1m20/20\u001B[0m \u001B[32m━━━━━━━━━━━━━━━━━━━━\u001B[0m\u001B[37m\u001B[0m \u001B[1m0s\u001B[0m 8ms/step - loss: 0.0067 - val_loss: 0.0910\n",
      "Epoch 58/80\n",
      "\u001B[1m20/20\u001B[0m \u001B[32m━━━━━━━━━━━━━━━━━━━━\u001B[0m\u001B[37m\u001B[0m \u001B[1m0s\u001B[0m 7ms/step - loss: 0.0062 - val_loss: 0.0838\n",
      "Epoch 59/80\n",
      "\u001B[1m20/20\u001B[0m \u001B[32m━━━━━━━━━━━━━━━━━━━━\u001B[0m\u001B[37m\u001B[0m \u001B[1m0s\u001B[0m 8ms/step - loss: 0.0059 - val_loss: 0.0886\n",
      "Epoch 60/80\n",
      "\u001B[1m20/20\u001B[0m \u001B[32m━━━━━━━━━━━━━━━━━━━━\u001B[0m\u001B[37m\u001B[0m \u001B[1m0s\u001B[0m 7ms/step - loss: 0.0098 - val_loss: 0.0874\n",
      "Epoch 61/80\n",
      "\u001B[1m20/20\u001B[0m \u001B[32m━━━━━━━━━━━━━━━━━━━━\u001B[0m\u001B[37m\u001B[0m \u001B[1m0s\u001B[0m 7ms/step - loss: 0.0095 - val_loss: 0.0972\n",
      "Epoch 62/80\n",
      "\u001B[1m20/20\u001B[0m \u001B[32m━━━━━━━━━━━━━━━━━━━━\u001B[0m\u001B[37m\u001B[0m \u001B[1m0s\u001B[0m 9ms/step - loss: 0.0098 - val_loss: 0.0961\n",
      "Epoch 63/80\n",
      "\u001B[1m20/20\u001B[0m \u001B[32m━━━━━━━━━━━━━━━━━━━━\u001B[0m\u001B[37m\u001B[0m \u001B[1m0s\u001B[0m 9ms/step - loss: 0.0085 - val_loss: 0.0975\n",
      "Epoch 64/80\n",
      "\u001B[1m20/20\u001B[0m \u001B[32m━━━━━━━━━━━━━━━━━━━━\u001B[0m\u001B[37m\u001B[0m \u001B[1m0s\u001B[0m 8ms/step - loss: 0.0088 - val_loss: 0.0964\n",
      "Epoch 65/80\n",
      "\u001B[1m20/20\u001B[0m \u001B[32m━━━━━━━━━━━━━━━━━━━━\u001B[0m\u001B[37m\u001B[0m \u001B[1m0s\u001B[0m 8ms/step - loss: 0.0061 - val_loss: 0.0899\n",
      "Epoch 66/80\n",
      "\u001B[1m20/20\u001B[0m \u001B[32m━━━━━━━━━━━━━━━━━━━━\u001B[0m\u001B[37m\u001B[0m \u001B[1m0s\u001B[0m 9ms/step - loss: 0.0059 - val_loss: 0.0850\n",
      "Epoch 67/80\n",
      "\u001B[1m20/20\u001B[0m \u001B[32m━━━━━━━━━━━━━━━━━━━━\u001B[0m\u001B[37m\u001B[0m \u001B[1m0s\u001B[0m 8ms/step - loss: 0.0074 - val_loss: 0.0965\n",
      "Epoch 68/80\n",
      "\u001B[1m20/20\u001B[0m \u001B[32m━━━━━━━━━━━━━━━━━━━━\u001B[0m\u001B[37m\u001B[0m \u001B[1m0s\u001B[0m 8ms/step - loss: 0.0103 - val_loss: 0.0907\n",
      "Epoch 69/80\n",
      "\u001B[1m20/20\u001B[0m \u001B[32m━━━━━━━━━━━━━━━━━━━━\u001B[0m\u001B[37m\u001B[0m \u001B[1m0s\u001B[0m 8ms/step - loss: 0.0076 - val_loss: 0.0994\n",
      "Epoch 70/80\n",
      "\u001B[1m20/20\u001B[0m \u001B[32m━━━━━━━━━━━━━━━━━━━━\u001B[0m\u001B[37m\u001B[0m \u001B[1m0s\u001B[0m 8ms/step - loss: 0.0093 - val_loss: 0.0927\n",
      "Epoch 71/80\n",
      "\u001B[1m20/20\u001B[0m \u001B[32m━━━━━━━━━━━━━━━━━━━━\u001B[0m\u001B[37m\u001B[0m \u001B[1m0s\u001B[0m 7ms/step - loss: 0.0080 - val_loss: 0.0991\n",
      "Epoch 72/80\n",
      "\u001B[1m20/20\u001B[0m \u001B[32m━━━━━━━━━━━━━━━━━━━━\u001B[0m\u001B[37m\u001B[0m \u001B[1m0s\u001B[0m 8ms/step - loss: 0.0073 - val_loss: 0.0935\n",
      "Epoch 73/80\n",
      "\u001B[1m20/20\u001B[0m \u001B[32m━━━━━━━━━━━━━━━━━━━━\u001B[0m\u001B[37m\u001B[0m \u001B[1m0s\u001B[0m 8ms/step - loss: 0.0069 - val_loss: 0.0947\n",
      "Epoch 74/80\n",
      "\u001B[1m20/20\u001B[0m \u001B[32m━━━━━━━━━━━━━━━━━━━━\u001B[0m\u001B[37m\u001B[0m \u001B[1m0s\u001B[0m 9ms/step - loss: 0.0084 - val_loss: 0.0874\n",
      "Epoch 75/80\n",
      "\u001B[1m20/20\u001B[0m \u001B[32m━━━━━━━━━━━━━━━━━━━━\u001B[0m\u001B[37m\u001B[0m \u001B[1m0s\u001B[0m 8ms/step - loss: 0.0103 - val_loss: 0.0869\n",
      "Epoch 76/80\n",
      "\u001B[1m20/20\u001B[0m \u001B[32m━━━━━━━━━━━━━━━━━━━━\u001B[0m\u001B[37m\u001B[0m \u001B[1m0s\u001B[0m 7ms/step - loss: 0.0054 - val_loss: 0.0834\n",
      "Epoch 77/80\n",
      "\u001B[1m20/20\u001B[0m \u001B[32m━━━━━━━━━━━━━━━━━━━━\u001B[0m\u001B[37m\u001B[0m \u001B[1m0s\u001B[0m 10ms/step - loss: 0.0054 - val_loss: 0.0924\n",
      "Epoch 78/80\n",
      "\u001B[1m20/20\u001B[0m \u001B[32m━━━━━━━━━━━━━━━━━━━━\u001B[0m\u001B[37m\u001B[0m \u001B[1m0s\u001B[0m 8ms/step - loss: 0.0074 - val_loss: 0.0801\n",
      "Epoch 79/80\n",
      "\u001B[1m20/20\u001B[0m \u001B[32m━━━━━━━━━━━━━━━━━━━━\u001B[0m\u001B[37m\u001B[0m \u001B[1m0s\u001B[0m 7ms/step - loss: 0.0069 - val_loss: 0.0851\n",
      "Epoch 80/80\n",
      "\u001B[1m20/20\u001B[0m \u001B[32m━━━━━━━━━━━━━━━━━━━━\u001B[0m\u001B[37m\u001B[0m \u001B[1m0s\u001B[0m 8ms/step - loss: 0.0063 - val_loss: 0.0820\n"
     ]
    }
   ],
   "execution_count": 8
  },
  {
   "metadata": {
    "ExecuteTime": {
     "end_time": "2025-02-03T06:41:52.960808Z",
     "start_time": "2025-02-03T06:41:52.848621Z"
    }
   },
   "cell_type": "code",
   "source": [
    "plt.plot(r.history['loss'], label='loss')\n",
    "plt.plot(r.history['val_loss'], label='val_loss')\n",
    "plt.legend()\n",
    "plt.show()"
   ],
   "id": "27ca44dd74f24837",
   "outputs": [
    {
     "data": {
      "text/plain": [
       "<Figure size 640x480 with 1 Axes>"
      ],
      "image/png": "[encoded data removed]"
     },
     "metadata": {},
     "output_type": "display_data"
    }
   ],
   "execution_count": 9
  },
  {
   "metadata": {
    "ExecuteTime": {
     "end_time": "2025-02-03T06:41:52.983696Z",
     "start_time": "2025-02-03T06:41:52.979169Z"
    }
   },
   "cell_type": "code",
   "source": [
    "# # plt.plot(r.history)\n",
    "# print(r.history.keys())\n",
    "# dir(r.history)"
   ],
   "id": "7bd2a5ea1648dd04",
   "outputs": [],
   "execution_count": 10
  },
  {
   "metadata": {
    "ExecuteTime": {
     "end_time": "2025-02-03T06:41:53.534283Z",
     "start_time": "2025-02-03T06:41:53.010776Z"
    }
   },
   "cell_type": "code",
   "source": [
    "# One-step forecast using true targets\n",
    "outputs = model.predict(X)\n",
    "print(outputs.shape)\n",
    "predictions = outputs[:, 0]\n",
    "\n",
    "plt.plot(Y, label='targets')\n",
    "plt.plot(predictions, label='predictions')\n",
    "plt.legend()\n",
    "plt.show()"
   ],
   "id": "edacb3b3beb4e968",
   "outputs": [
    {
     "name": "stdout",
     "output_type": "stream",
     "text": [
      "\u001B[1m40/40\u001B[0m \u001B[32m━━━━━━━━━━━━━━━━━━━━\u001B[0m\u001B[37m\u001B[0m \u001B[1m0s\u001B[0m 5ms/step\n",
      "(1249, 1)\n"
     ]
    },
    {
     "data": {
      "text/plain": [
       "<Figure size 640x480 with 1 Axes>"
      ],
      "image/png": "[encoded data removed]"
     },
     "metadata": {},
     "output_type": "display_data"
    }
   ],
   "execution_count": 11
  },
  {
   "metadata": {
    "ExecuteTime": {
     "end_time": "2025-02-03T06:41:53.566864Z",
     "start_time": "2025-02-03T06:41:53.561288Z"
    }
   },
   "cell_type": "code",
   "source": [
    "# This code does not excecute\n",
    "# # Multi-step forecast\n",
    "# validation_target = Y[-N//2:]\n",
    "# validation_predictions = []\n",
    "#\n",
    "# last_x = X[-N//2]\n",
    "#\n",
    "# while len(validation_predictions) < len(validation_target):\n",
    "#     p = model.predict(last_x.reshape(1, T, 1), verbose=0)[0, 0]\n",
    "#\n",
    "#     validation_predictions.append(p)\n",
    "#\n",
    "#     last_x = np.roll(last_x, -1)\n",
    "#     last_x[-1] = p\n",
    "#\n",
    "# plt.plot(validation_target, label='forecast target')\n",
    "# plt.plot(validation_predictions, label='forecast prediction')\n",
    "# plt.legend()\n",
    "# plt.show()"
   ],
   "id": "dbf5bbd135085c6",
   "outputs": [],
   "execution_count": 12
  },
  {
   "metadata": {
    "ExecuteTime": {
     "end_time": "2025-02-03T06:42:52.158425Z",
     "start_time": "2025-02-03T06:42:52.152701Z"
    }
   },
   "cell_type": "code",
   "source": "df['prev_close'] = df['close'].shift(1)",
   "id": "a9d07a59b72ac161",
   "outputs": [],
   "execution_count": 13
  },
  {
   "metadata": {
    "ExecuteTime": {
     "end_time": "2025-02-03T06:42:57.798926Z",
     "start_time": "2025-02-03T06:42:57.786878Z"
    }
   },
   "cell_type": "code",
   "source": "df.head()",
   "id": "14b359c1cb95bbb8",
   "outputs": [
    {
     "data": {
      "text/plain": [
       "         date    open    high     low   close   volume  Name  prev_close\n",
       "0  2013-02-08  27.920  28.325  27.920  28.185  7146296  SBUX         NaN\n",
       "1  2013-02-11  28.260  28.260  27.930  28.070  5457354  SBUX      28.185\n",
       "2  2013-02-12  28.000  28.275  27.975  28.130  8665592  SBUX      28.070\n",
       "3  2013-02-13  28.230  28.230  27.750  27.915  7022056  SBUX      28.130\n",
       "4  2013-02-14  27.765  27.905  27.675  27.775  8899188  SBUX      27.915"
      ],
      "text/html": [
       "<div>\n",
       "<style scoped>\n",
       "    .dataframe tbody tr th:only-of-type {\n",
       "        vertical-align: middle;\n",
       "    }\n",
       "\n",
       "    .dataframe tbody tr th {\n",
       "        vertical-align: top;\n",
       "    }\n",
       "\n",
       "    .dataframe thead th {\n",
       "        text-align: right;\n",
       "    }\n",
       "</style>\n",
       "<table border=\"1\" class=\"dataframe\">\n",
       "  <thead>\n",
       "    <tr style=\"text-align: right;\">\n",
       "      <th></th>\n",
       "      <th>date</th>\n",
       "      <th>open</th>\n",
       "      <th>high</th>\n",
       "      <th>low</th>\n",
       "      <th>close</th>\n",
       "      <th>volume</th>\n",
       "      <th>Name</th>\n",
       "      <th>prev_close</th>\n",
       "    </tr>\n",
       "  </thead>\n",
       "  <tbody>\n",
       "    <tr>\n",
       "      <th>0</th>\n",
       "      <td>2013-02-08</td>\n",
       "      <td>27.920</td>\n",
       "      <td>28.325</td>\n",
       "      <td>27.920</td>\n",
       "      <td>28.185</td>\n",
       "      <td>7146296</td>\n",
       "      <td>SBUX</td>\n",
       "      <td>NaN</td>\n",
       "    </tr>\n",
       "    <tr>\n",
       "      <th>1</th>\n",
       "      <td>2013-02-11</td>\n",
       "      <td>28.260</td>\n",
       "      <td>28.260</td>\n",
       "      <td>27.930</td>\n",
       "      <td>28.070</td>\n",
       "      <td>5457354</td>\n",
       "      <td>SBUX</td>\n",
       "      <td>28.185</td>\n",
       "    </tr>\n",
       "    <tr>\n",
       "      <th>2</th>\n",
       "      <td>2013-02-12</td>\n",
       "      <td>28.000</td>\n",
       "      <td>28.275</td>\n",
       "      <td>27.975</td>\n",
       "      <td>28.130</td>\n",
       "      <td>8665592</td>\n",
       "      <td>SBUX</td>\n",
       "      <td>28.070</td>\n",
       "    </tr>\n",
       "    <tr>\n",
       "      <th>3</th>\n",
       "      <td>2013-02-13</td>\n",
       "      <td>28.230</td>\n",
       "      <td>28.230</td>\n",
       "      <td>27.750</td>\n",
       "      <td>27.915</td>\n",
       "      <td>7022056</td>\n",
       "      <td>SBUX</td>\n",
       "      <td>28.130</td>\n",
       "    </tr>\n",
       "    <tr>\n",
       "      <th>4</th>\n",
       "      <td>2013-02-14</td>\n",
       "      <td>27.765</td>\n",
       "      <td>27.905</td>\n",
       "      <td>27.675</td>\n",
       "      <td>27.775</td>\n",
       "      <td>8899188</td>\n",
       "      <td>SBUX</td>\n",
       "      <td>27.915</td>\n",
       "    </tr>\n",
       "  </tbody>\n",
       "</table>\n",
       "</div>"
      ]
     },
     "execution_count": 14,
     "metadata": {},
     "output_type": "execute_result"
    }
   ],
   "execution_count": 14
  },
  {
   "metadata": {
    "ExecuteTime": {
     "end_time": "2025-02-03T06:43:44.846779Z",
     "start_time": "2025-02-03T06:43:44.841131Z"
    }
   },
   "cell_type": "code",
   "source": "df['return'] = (df['close'] - df['prev_close']) / df['prev_close']",
   "id": "ec861b187e46dee9",
   "outputs": [],
   "execution_count": 15
  },
  {
   "metadata": {
    "ExecuteTime": {
     "end_time": "2025-02-03T06:43:53.824199Z",
     "start_time": "2025-02-03T06:43:53.812924Z"
    }
   },
   "cell_type": "code",
   "source": "df.head()",
   "id": "caa11f91c8764efd",
   "outputs": [
    {
     "data": {
      "text/plain": [
       "         date    open    high     low   close   volume  Name  prev_close  \\\n",
       "0  2013-02-08  27.920  28.325  27.920  28.185  7146296  SBUX         NaN   \n",
       "1  2013-02-11  28.260  28.260  27.930  28.070  5457354  SBUX      28.185   \n",
       "2  2013-02-12  28.000  28.275  27.975  28.130  8665592  SBUX      28.070   \n",
       "3  2013-02-13  28.230  28.230  27.750  27.915  7022056  SBUX      28.130   \n",
       "4  2013-02-14  27.765  27.905  27.675  27.775  8899188  SBUX      27.915   \n",
       "\n",
       "     return  \n",
       "0       NaN  \n",
       "1 -0.004080  \n",
       "2  0.002138  \n",
       "3 -0.007643  \n",
       "4 -0.005015  "
      ],
      "text/html": [
       "<div>\n",
       "<style scoped>\n",
       "    .dataframe tbody tr th:only-of-type {\n",
       "        vertical-align: middle;\n",
       "    }\n",
       "\n",
       "    .dataframe tbody tr th {\n",
       "        vertical-align: top;\n",
       "    }\n",
       "\n",
       "    .dataframe thead th {\n",
       "        text-align: right;\n",
       "    }\n",
       "</style>\n",
       "<table border=\"1\" class=\"dataframe\">\n",
       "  <thead>\n",
       "    <tr style=\"text-align: right;\">\n",
       "      <th></th>\n",
       "      <th>date</th>\n",
       "      <th>open</th>\n",
       "      <th>high</th>\n",
       "      <th>low</th>\n",
       "      <th>close</th>\n",
       "      <th>volume</th>\n",
       "      <th>Name</th>\n",
       "      <th>prev_close</th>\n",
       "      <th>return</th>\n",
       "    </tr>\n",
       "  </thead>\n",
       "  <tbody>\n",
       "    <tr>\n",
       "      <th>0</th>\n",
       "      <td>2013-02-08</td>\n",
       "      <td>27.920</td>\n",
       "      <td>28.325</td>\n",
       "      <td>27.920</td>\n",
       "      <td>28.185</td>\n",
       "      <td>7146296</td>\n",
       "      <td>SBUX</td>\n",
       "      <td>NaN</td>\n",
       "      <td>NaN</td>\n",
       "    </tr>\n",
       "    <tr>\n",
       "      <th>1</th>\n",
       "      <td>2013-02-11</td>\n",
       "      <td>28.260</td>\n",
       "      <td>28.260</td>\n",
       "      <td>27.930</td>\n",
       "      <td>28.070</td>\n",
       "      <td>5457354</td>\n",
       "      <td>SBUX</td>\n",
       "      <td>28.185</td>\n",
       "      <td>-0.004080</td>\n",
       "    </tr>\n",
       "    <tr>\n",
       "      <th>2</th>\n",
       "      <td>2013-02-12</td>\n",
       "      <td>28.000</td>\n",
       "      <td>28.275</td>\n",
       "      <td>27.975</td>\n",
       "      <td>28.130</td>\n",
       "      <td>8665592</td>\n",
       "      <td>SBUX</td>\n",
       "      <td>28.070</td>\n",
       "      <td>0.002138</td>\n",
       "    </tr>\n",
       "    <tr>\n",
       "      <th>3</th>\n",
       "      <td>2013-02-13</td>\n",
       "      <td>28.230</td>\n",
       "      <td>28.230</td>\n",
       "      <td>27.750</td>\n",
       "      <td>27.915</td>\n",
       "      <td>7022056</td>\n",
       "      <td>SBUX</td>\n",
       "      <td>28.130</td>\n",
       "      <td>-0.007643</td>\n",
       "    </tr>\n",
       "    <tr>\n",
       "      <th>4</th>\n",
       "      <td>2013-02-14</td>\n",
       "      <td>27.765</td>\n",
       "      <td>27.905</td>\n",
       "      <td>27.675</td>\n",
       "      <td>27.775</td>\n",
       "      <td>8899188</td>\n",
       "      <td>SBUX</td>\n",
       "      <td>27.915</td>\n",
       "      <td>-0.005015</td>\n",
       "    </tr>\n",
       "  </tbody>\n",
       "</table>\n",
       "</div>"
      ]
     },
     "execution_count": 16,
     "metadata": {},
     "output_type": "execute_result"
    }
   ],
   "execution_count": 16
  },
  {
   "metadata": {
    "ExecuteTime": {
     "end_time": "2025-02-03T06:44:44.637164Z",
     "start_time": "2025-02-03T06:44:44.494372Z"
    }
   },
   "cell_type": "code",
   "source": "df['return'].hist()",
   "id": "afbc7d506dedb900",
   "outputs": [
    {
     "data": {
      "text/plain": [
       "<Axes: >"
      ]
     },
     "execution_count": 17,
     "metadata": {},
     "output_type": "execute_result"
    },
    {
     "data": {
      "text/plain": [
       "<Figure size 640x480 with 1 Axes>"
      ],
      "image/png": "[encoded data removed]"
     },
     "metadata": {},
     "output_type": "display_data"
    }
   ],
   "execution_count": 17
  },
  {
   "metadata": {
    "ExecuteTime": {
     "end_time": "2025-02-03T06:45:56.249708Z",
     "start_time": "2025-02-03T06:45:56.244694Z"
    }
   },
   "cell_type": "code",
   "source": "series_2 = df['return'].values[1:].reshape(-1, 1)",
   "id": "6db1d9388909c52",
   "outputs": [],
   "execution_count": 19
  },
  {
   "metadata": {
    "ExecuteTime": {
     "end_time": "2025-02-03T06:46:27.486179Z",
     "start_time": "2025-02-03T06:46:27.480849Z"
    }
   },
   "cell_type": "code",
   "source": [
    "scaler = StandardScaler()\n",
    "scaler.fit(series_2[:len(series_2)//2])\n",
    "series_2 = scaler.transform(series_2).flatten()"
   ],
   "id": "27b8a1bc6c4501d9",
   "outputs": [],
   "execution_count": 20
  },
  {
   "metadata": {
    "ExecuteTime": {
     "end_time": "2025-02-03T06:47:06.915474Z",
     "start_time": "2025-02-03T06:47:06.907769Z"
    }
   },
   "cell_type": "code",
   "source": [
    "T = 10\n",
    "D = 1\n",
    "X = []\n",
    "Y = []\n",
    "\n",
    "for t in range(len(series_2) - T):\n",
    "    x = series_2[t:t+T]\n",
    "    X.append(x)\n",
    "    y = series_2[t+T]\n",
    "    Y.append(y)\n",
    "\n",
    "X = np.array(X).reshape(-1, T, 1)\n",
    "Y = np.array(Y)\n",
    "N = len(X)\n",
    "\n",
    "print('X shape:', np.array(X).shape)\n",
    "print('Y shape:', np.array(Y).shape)"
   ],
   "id": "3f495426f6126acb",
   "outputs": [
    {
     "name": "stdout",
     "output_type": "stream",
     "text": [
      "X shape: (1248, 10, 1)\n",
      "Y shape: (1248,)\n"
     ]
    }
   ],
   "execution_count": 21
  },
  {
   "metadata": {
    "ExecuteTime": {
     "end_time": "2025-02-03T06:48:13.202921Z",
     "start_time": "2025-02-03T06:47:57.963355Z"
    }
   },
   "cell_type": "code",
   "source": [
    "i = layers.Input(shape=(T, D))\n",
    "x = layers.LSTM(5, activation='relu')(i)\n",
    "x = layers.Dense(1)(x)\n",
    "\n",
    "model = models.Model(i, x)\n",
    "\n",
    "model.compile(\n",
    "    optimizer=optimizers.Adam(0.1),\n",
    "    loss='mse'\n",
    ")\n",
    "\n",
    "r = model.fit(\n",
    "    X[:-N//2], Y[:-N//2],\n",
    "    epochs=80,\n",
    "    validation_data=(X[-N//2:], Y[-N//2:]),\n",
    "    verbose=0\n",
    ")"
   ],
   "id": "a00328b610e8b2d8",
   "outputs": [
    {
     "name": "stdout",
     "output_type": "stream",
     "text": [
      "Epoch 1/80\n",
      "\u001B[1m20/20\u001B[0m \u001B[32m━━━━━━━━━━━━━━━━━━━━\u001B[0m\u001B[37m\u001B[0m \u001B[1m2s\u001B[0m 18ms/step - loss: 0.9682 - val_loss: 1.1280\n",
      "Epoch 2/80\n",
      "\u001B[1m20/20\u001B[0m \u001B[32m━━━━━━━━━━━━━━━━━━━━\u001B[0m\u001B[37m\u001B[0m \u001B[1m0s\u001B[0m 7ms/step - loss: 1.0418 - val_loss: 1.1346\n",
      "Epoch 3/80\n",
      "\u001B[1m20/20\u001B[0m \u001B[32m━━━━━━━━━━━━━━━━━━━━\u001B[0m\u001B[37m\u001B[0m \u001B[1m0s\u001B[0m 8ms/step - loss: 1.0360 - val_loss: 1.1473\n",
      "Epoch 4/80\n",
      "\u001B[1m20/20\u001B[0m \u001B[32m━━━━━━━━━━━━━━━━━━━━\u001B[0m\u001B[37m\u001B[0m \u001B[1m0s\u001B[0m 7ms/step - loss: 0.9667 - val_loss: 1.1407\n",
      "Epoch 5/80\n",
      "\u001B[1m20/20\u001B[0m \u001B[32m━━━━━━━━━━━━━━━━━━━━\u001B[0m\u001B[37m\u001B[0m \u001B[1m0s\u001B[0m 7ms/step - loss: 1.0009 - val_loss: 1.1506\n",
      "Epoch 6/80\n",
      "\u001B[1m20/20\u001B[0m \u001B[32m━━━━━━━━━━━━━━━━━━━━\u001B[0m\u001B[37m\u001B[0m \u001B[1m0s\u001B[0m 7ms/step - loss: 1.0515 - val_loss: 1.1360\n",
      "Epoch 7/80\n",
      "\u001B[1m20/20\u001B[0m \u001B[32m━━━━━━━━━━━━━━━━━━━━\u001B[0m\u001B[37m\u001B[0m \u001B[1m0s\u001B[0m 7ms/step - loss: 1.1165 - val_loss: 1.1810\n",
      "Epoch 8/80\n",
      "\u001B[1m20/20\u001B[0m \u001B[32m━━━━━━━━━━━━━━━━━━━━\u001B[0m\u001B[37m\u001B[0m \u001B[1m0s\u001B[0m 7ms/step - loss: 0.9428 - val_loss: 1.1580\n",
      "Epoch 9/80\n",
      "\u001B[1m20/20\u001B[0m \u001B[32m━━━━━━━━━━━━━━━━━━━━\u001B[0m\u001B[37m\u001B[0m \u001B[1m0s\u001B[0m 7ms/step - loss: 0.9246 - val_loss: 1.1551\n",
      "Epoch 10/80\n",
      "\u001B[1m20/20\u001B[0m \u001B[32m━━━━━━━━━━━━━━━━━━━━\u001B[0m\u001B[37m\u001B[0m \u001B[1m0s\u001B[0m 7ms/step - loss: 1.0488 - val_loss: 1.1990\n",
      "Epoch 11/80\n",
      "\u001B[1m20/20\u001B[0m \u001B[32m━━━━━━━━━━━━━━━━━━━━\u001B[0m\u001B[37m\u001B[0m \u001B[1m0s\u001B[0m 8ms/step - loss: 1.2316 - val_loss: 1.1282\n",
      "Epoch 12/80\n",
      "\u001B[1m20/20\u001B[0m \u001B[32m━━━━━━━━━━━━━━━━━━━━\u001B[0m\u001B[37m\u001B[0m \u001B[1m0s\u001B[0m 8ms/step - loss: 0.9704 - val_loss: 1.1391\n",
      "Epoch 13/80\n",
      "\u001B[1m20/20\u001B[0m \u001B[32m━━━━━━━━━━━━━━━━━━━━\u001B[0m\u001B[37m\u001B[0m \u001B[1m0s\u001B[0m 8ms/step - loss: 0.9379 - val_loss: 1.1870\n",
      "Epoch 14/80\n",
      "\u001B[1m20/20\u001B[0m \u001B[32m━━━━━━━━━━━━━━━━━━━━\u001B[0m\u001B[37m\u001B[0m \u001B[1m0s\u001B[0m 8ms/step - loss: 0.9910 - val_loss: 1.1295\n",
      "Epoch 15/80\n",
      "\u001B[1m20/20\u001B[0m \u001B[32m━━━━━━━━━━━━━━━━━━━━\u001B[0m\u001B[37m\u001B[0m \u001B[1m0s\u001B[0m 7ms/step - loss: 0.9500 - val_loss: 1.1719\n",
      "Epoch 16/80\n",
      "\u001B[1m20/20\u001B[0m \u001B[32m━━━━━━━━━━━━━━━━━━━━\u001B[0m\u001B[37m\u001B[0m \u001B[1m0s\u001B[0m 7ms/step - loss: 0.9934 - val_loss: 1.1322\n",
      "Epoch 17/80\n",
      "\u001B[1m20/20\u001B[0m \u001B[32m━━━━━━━━━━━━━━━━━━━━\u001B[0m\u001B[37m\u001B[0m \u001B[1m0s\u001B[0m 7ms/step - loss: 0.9087 - val_loss: 1.1301\n",
      "Epoch 18/80\n",
      "\u001B[1m20/20\u001B[0m \u001B[32m━━━━━━━━━━━━━━━━━━━━\u001B[0m\u001B[37m\u001B[0m \u001B[1m0s\u001B[0m 8ms/step - loss: 0.9721 - val_loss: 1.1979\n",
      "Epoch 19/80\n",
      "\u001B[1m20/20\u001B[0m \u001B[32m━━━━━━━━━━━━━━━━━━━━\u001B[0m\u001B[37m\u001B[0m \u001B[1m0s\u001B[0m 7ms/step - loss: 1.0353 - val_loss: 1.1561\n",
      "Epoch 20/80\n",
      "\u001B[1m20/20\u001B[0m \u001B[32m━━━━━━━━━━━━━━━━━━━━\u001B[0m\u001B[37m\u001B[0m \u001B[1m0s\u001B[0m 8ms/step - loss: 0.9648 - val_loss: 1.1297\n",
      "Epoch 21/80\n",
      "\u001B[1m20/20\u001B[0m \u001B[32m━━━━━━━━━━━━━━━━━━━━\u001B[0m\u001B[37m\u001B[0m \u001B[1m0s\u001B[0m 8ms/step - loss: 1.0159 - val_loss: 1.1407\n",
      "Epoch 22/80\n",
      "\u001B[1m20/20\u001B[0m \u001B[32m━━━━━━━━━━━━━━━━━━━━\u001B[0m\u001B[37m\u001B[0m \u001B[1m0s\u001B[0m 8ms/step - loss: 1.0196 - val_loss: 1.1304\n",
      "Epoch 23/80\n",
      "\u001B[1m20/20\u001B[0m \u001B[32m━━━━━━━━━━━━━━━━━━━━\u001B[0m\u001B[37m\u001B[0m \u001B[1m0s\u001B[0m 7ms/step - loss: 0.8862 - val_loss: 1.1293\n",
      "Epoch 24/80\n",
      "\u001B[1m20/20\u001B[0m \u001B[32m━━━━━━━━━━━━━━━━━━━━\u001B[0m\u001B[37m\u001B[0m \u001B[1m0s\u001B[0m 8ms/step - loss: 0.9392 - val_loss: 1.1921\n",
      "Epoch 25/80\n",
      "\u001B[1m20/20\u001B[0m \u001B[32m━━━━━━━━━━━━━━━━━━━━\u001B[0m\u001B[37m\u001B[0m \u001B[1m0s\u001B[0m 8ms/step - loss: 0.9734 - val_loss: 1.1287\n",
      "Epoch 26/80\n",
      "\u001B[1m20/20\u001B[0m \u001B[32m━━━━━━━━━━━━━━━━━━━━\u001B[0m\u001B[37m\u001B[0m \u001B[1m0s\u001B[0m 7ms/step - loss: 1.0490 - val_loss: 1.1273\n",
      "Epoch 27/80\n",
      "\u001B[1m20/20\u001B[0m \u001B[32m━━━━━━━━━━━━━━━━━━━━\u001B[0m\u001B[37m\u001B[0m \u001B[1m0s\u001B[0m 7ms/step - loss: 1.0050 - val_loss: 1.1718\n",
      "Epoch 28/80\n",
      "\u001B[1m20/20\u001B[0m \u001B[32m━━━━━━━━━━━━━━━━━━━━\u001B[0m\u001B[37m\u001B[0m \u001B[1m0s\u001B[0m 7ms/step - loss: 0.9168 - val_loss: 1.1385\n",
      "Epoch 29/80\n",
      "\u001B[1m20/20\u001B[0m \u001B[32m━━━━━━━━━━━━━━━━━━━━\u001B[0m\u001B[37m\u001B[0m \u001B[1m0s\u001B[0m 7ms/step - loss: 1.0953 - val_loss: 1.1391\n",
      "Epoch 30/80\n",
      "\u001B[1m20/20\u001B[0m \u001B[32m━━━━━━━━━━━━━━━━━━━━\u001B[0m\u001B[37m\u001B[0m \u001B[1m0s\u001B[0m 7ms/step - loss: 0.9405 - val_loss: 1.1274\n",
      "Epoch 31/80\n",
      "\u001B[1m20/20\u001B[0m \u001B[32m━━━━━━━━━━━━━━━━━━━━\u001B[0m\u001B[37m\u001B[0m \u001B[1m0s\u001B[0m 7ms/step - loss: 1.0697 - val_loss: 1.1414\n",
      "Epoch 32/80\n",
      "\u001B[1m20/20\u001B[0m \u001B[32m━━━━━━━━━━━━━━━━━━━━\u001B[0m\u001B[37m\u001B[0m \u001B[1m0s\u001B[0m 7ms/step - loss: 0.9095 - val_loss: 1.1397\n",
      "Epoch 33/80\n",
      "\u001B[1m20/20\u001B[0m \u001B[32m━━━━━━━━━━━━━━━━━━━━\u001B[0m\u001B[37m\u001B[0m \u001B[1m0s\u001B[0m 7ms/step - loss: 1.1836 - val_loss: 1.1309\n",
      "Epoch 34/80\n",
      "\u001B[1m20/20\u001B[0m \u001B[32m━━━━━━━━━━━━━━━━━━━━\u001B[0m\u001B[37m\u001B[0m \u001B[1m0s\u001B[0m 7ms/step - loss: 0.9176 - val_loss: 1.1414\n",
      "Epoch 35/80\n",
      "\u001B[1m20/20\u001B[0m \u001B[32m━━━━━━━━━━━━━━━━━━━━\u001B[0m\u001B[37m\u001B[0m \u001B[1m0s\u001B[0m 7ms/step - loss: 1.0228 - val_loss: 1.1299\n",
      "Epoch 36/80\n",
      "\u001B[1m20/20\u001B[0m \u001B[32m━━━━━━━━━━━━━━━━━━━━\u001B[0m\u001B[37m\u001B[0m \u001B[1m0s\u001B[0m 7ms/step - loss: 0.9584 - val_loss: 1.2101\n",
      "Epoch 37/80\n",
      "\u001B[1m20/20\u001B[0m \u001B[32m━━━━━━━━━━━━━━━━━━━━\u001B[0m\u001B[37m\u001B[0m \u001B[1m0s\u001B[0m 7ms/step - loss: 1.1183 - val_loss: 1.1296\n",
      "Epoch 38/80\n",
      "\u001B[1m20/20\u001B[0m \u001B[32m━━━━━━━━━━━━━━━━━━━━\u001B[0m\u001B[37m\u001B[0m \u001B[1m0s\u001B[0m 8ms/step - loss: 1.1312 - val_loss: 1.1335\n",
      "Epoch 39/80\n",
      "\u001B[1m20/20\u001B[0m \u001B[32m━━━━━━━━━━━━━━━━━━━━\u001B[0m\u001B[37m\u001B[0m \u001B[1m0s\u001B[0m 7ms/step - loss: 1.0058 - val_loss: 1.1474\n",
      "Epoch 40/80\n",
      "\u001B[1m20/20\u001B[0m \u001B[32m━━━━━━━━━━━━━━━━━━━━\u001B[0m\u001B[37m\u001B[0m \u001B[1m0s\u001B[0m 7ms/step - loss: 1.0683 - val_loss: 1.1473\n",
      "Epoch 41/80\n",
      "\u001B[1m20/20\u001B[0m \u001B[32m━━━━━━━━━━━━━━━━━━━━\u001B[0m\u001B[37m\u001B[0m \u001B[1m0s\u001B[0m 7ms/step - loss: 1.0010 - val_loss: 1.1317\n",
      "Epoch 42/80\n",
      "\u001B[1m20/20\u001B[0m \u001B[32m━━━━━━━━━━━━━━━━━━━━\u001B[0m\u001B[37m\u001B[0m \u001B[1m0s\u001B[0m 8ms/step - loss: 1.0585 - val_loss: 1.1433\n",
      "Epoch 43/80\n",
      "\u001B[1m20/20\u001B[0m \u001B[32m━━━━━━━━━━━━━━━━━━━━\u001B[0m\u001B[37m\u001B[0m \u001B[1m0s\u001B[0m 7ms/step - loss: 1.0240 - val_loss: 1.1379\n",
      "Epoch 44/80\n",
      "\u001B[1m20/20\u001B[0m \u001B[32m━━━━━━━━━━━━━━━━━━━━\u001B[0m\u001B[37m\u001B[0m \u001B[1m0s\u001B[0m 7ms/step - loss: 0.9668 - val_loss: 1.1335\n",
      "Epoch 45/80\n",
      "\u001B[1m20/20\u001B[0m \u001B[32m━━━━━━━━━━━━━━━━━━━━\u001B[0m\u001B[37m\u001B[0m \u001B[1m0s\u001B[0m 7ms/step - loss: 0.9847 - val_loss: 1.1578\n",
      "Epoch 46/80\n",
      "\u001B[1m20/20\u001B[0m \u001B[32m━━━━━━━━━━━━━━━━━━━━\u001B[0m\u001B[37m\u001B[0m \u001B[1m0s\u001B[0m 7ms/step - loss: 0.9292 - val_loss: 1.1403\n",
      "Epoch 47/80\n",
      "\u001B[1m20/20\u001B[0m \u001B[32m━━━━━━━━━━━━━━━━━━━━\u001B[0m\u001B[37m\u001B[0m \u001B[1m0s\u001B[0m 7ms/step - loss: 0.9479 - val_loss: 1.1525\n",
      "Epoch 48/80\n",
      "\u001B[1m20/20\u001B[0m \u001B[32m━━━━━━━━━━━━━━━━━━━━\u001B[0m\u001B[37m\u001B[0m \u001B[1m0s\u001B[0m 7ms/step - loss: 0.9569 - val_loss: 1.1306\n",
      "Epoch 49/80\n",
      "\u001B[1m20/20\u001B[0m \u001B[32m━━━━━━━━━━━━━━━━━━━━\u001B[0m\u001B[37m\u001B[0m \u001B[1m0s\u001B[0m 7ms/step - loss: 0.9371 - val_loss: 1.1496\n",
      "Epoch 50/80\n",
      "\u001B[1m20/20\u001B[0m \u001B[32m━━━━━━━━━━━━━━━━━━━━\u001B[0m\u001B[37m\u001B[0m \u001B[1m0s\u001B[0m 7ms/step - loss: 0.9499 - val_loss: 1.1285\n",
      "Epoch 51/80\n",
      "\u001B[1m20/20\u001B[0m \u001B[32m━━━━━━━━━━━━━━━━━━━━\u001B[0m\u001B[37m\u001B[0m \u001B[1m0s\u001B[0m 7ms/step - loss: 1.0490 - val_loss: 1.1520\n",
      "Epoch 52/80\n",
      "\u001B[1m20/20\u001B[0m \u001B[32m━━━━━━━━━━━━━━━━━━━━\u001B[0m\u001B[37m\u001B[0m \u001B[1m0s\u001B[0m 7ms/step - loss: 0.9417 - val_loss: 1.1508\n",
      "Epoch 53/80\n",
      "\u001B[1m20/20\u001B[0m \u001B[32m━━━━━━━━━━━━━━━━━━━━\u001B[0m\u001B[37m\u001B[0m \u001B[1m0s\u001B[0m 7ms/step - loss: 1.0763 - val_loss: 1.1417\n",
      "Epoch 54/80\n",
      "\u001B[1m20/20\u001B[0m \u001B[32m━━━━━━━━━━━━━━━━━━━━\u001B[0m\u001B[37m\u001B[0m \u001B[1m0s\u001B[0m 7ms/step - loss: 1.0223 - val_loss: 1.1564\n",
      "Epoch 55/80\n",
      "\u001B[1m20/20\u001B[0m \u001B[32m━━━━━━━━━━━━━━━━━━━━\u001B[0m\u001B[37m\u001B[0m \u001B[1m0s\u001B[0m 7ms/step - loss: 0.9862 - val_loss: 1.1351\n",
      "Epoch 56/80\n",
      "\u001B[1m20/20\u001B[0m \u001B[32m━━━━━━━━━━━━━━━━━━━━\u001B[0m\u001B[37m\u001B[0m \u001B[1m0s\u001B[0m 7ms/step - loss: 1.0158 - val_loss: 1.1606\n",
      "Epoch 57/80\n",
      "\u001B[1m20/20\u001B[0m \u001B[32m━━━━━━━━━━━━━━━━━━━━\u001B[0m\u001B[37m\u001B[0m \u001B[1m0s\u001B[0m 7ms/step - loss: 0.8686 - val_loss: 1.1388\n",
      "Epoch 58/80\n",
      "\u001B[1m20/20\u001B[0m \u001B[32m━━━━━━━━━━━━━━━━━━━━\u001B[0m\u001B[37m\u001B[0m \u001B[1m0s\u001B[0m 8ms/step - loss: 1.0803 - val_loss: 1.1280\n",
      "Epoch 59/80\n",
      "\u001B[1m20/20\u001B[0m \u001B[32m━━━━━━━━━━━━━━━━━━━━\u001B[0m\u001B[37m\u001B[0m \u001B[1m0s\u001B[0m 7ms/step - loss: 0.9282 - val_loss: 1.1272\n",
      "Epoch 60/80\n",
      "\u001B[1m20/20\u001B[0m \u001B[32m━━━━━━━━━━━━━━━━━━━━\u001B[0m\u001B[37m\u001B[0m \u001B[1m0s\u001B[0m 7ms/step - loss: 1.1004 - val_loss: 1.1322\n",
      "Epoch 61/80\n",
      "\u001B[1m20/20\u001B[0m \u001B[32m━━━━━━━━━━━━━━━━━━━━\u001B[0m\u001B[37m\u001B[0m \u001B[1m0s\u001B[0m 8ms/step - loss: 1.0799 - val_loss: 1.1293\n",
      "Epoch 62/80\n",
      "\u001B[1m20/20\u001B[0m \u001B[32m━━━━━━━━━━━━━━━━━━━━\u001B[0m\u001B[37m\u001B[0m \u001B[1m0s\u001B[0m 7ms/step - loss: 0.9241 - val_loss: 1.1344\n",
      "Epoch 63/80\n",
      "\u001B[1m20/20\u001B[0m \u001B[32m━━━━━━━━━━━━━━━━━━━━\u001B[0m\u001B[37m\u001B[0m \u001B[1m0s\u001B[0m 7ms/step - loss: 1.1140 - val_loss: 1.1821\n",
      "Epoch 64/80\n",
      "\u001B[1m20/20\u001B[0m \u001B[32m━━━━━━━━━━━━━━━━━━━━\u001B[0m\u001B[37m\u001B[0m \u001B[1m0s\u001B[0m 7ms/step - loss: 0.9856 - val_loss: 1.1369\n",
      "Epoch 65/80\n",
      "\u001B[1m20/20\u001B[0m \u001B[32m━━━━━━━━━━━━━━━━━━━━\u001B[0m\u001B[37m\u001B[0m \u001B[1m0s\u001B[0m 7ms/step - loss: 1.0593 - val_loss: 1.1378\n",
      "Epoch 66/80\n",
      "\u001B[1m20/20\u001B[0m \u001B[32m━━━━━━━━━━━━━━━━━━━━\u001B[0m\u001B[37m\u001B[0m \u001B[1m0s\u001B[0m 7ms/step - loss: 0.9877 - val_loss: 1.1451\n",
      "Epoch 67/80\n",
      "\u001B[1m20/20\u001B[0m \u001B[32m━━━━━━━━━━━━━━━━━━━━\u001B[0m\u001B[37m\u001B[0m \u001B[1m0s\u001B[0m 7ms/step - loss: 1.0604 - val_loss: 1.1276\n",
      "Epoch 68/80\n",
      "\u001B[1m20/20\u001B[0m \u001B[32m━━━━━━━━━━━━━━━━━━━━\u001B[0m\u001B[37m\u001B[0m \u001B[1m0s\u001B[0m 7ms/step - loss: 0.9185 - val_loss: 1.1413\n",
      "Epoch 69/80\n",
      "\u001B[1m20/20\u001B[0m \u001B[32m━━━━━━━━━━━━━━━━━━━━\u001B[0m\u001B[37m\u001B[0m \u001B[1m0s\u001B[0m 7ms/step - loss: 0.9240 - val_loss: 1.1799\n",
      "Epoch 70/80\n",
      "\u001B[1m20/20\u001B[0m \u001B[32m━━━━━━━━━━━━━━━━━━━━\u001B[0m\u001B[37m\u001B[0m \u001B[1m0s\u001B[0m 7ms/step - loss: 0.9787 - val_loss: 1.1284\n",
      "Epoch 71/80\n",
      "\u001B[1m20/20\u001B[0m \u001B[32m━━━━━━━━━━━━━━━━━━━━\u001B[0m\u001B[37m\u001B[0m \u001B[1m0s\u001B[0m 7ms/step - loss: 1.0357 - val_loss: 1.1435\n",
      "Epoch 72/80\n",
      "\u001B[1m20/20\u001B[0m \u001B[32m━━━━━━━━━━━━━━━━━━━━\u001B[0m\u001B[37m\u001B[0m \u001B[1m0s\u001B[0m 7ms/step - loss: 0.9514 - val_loss: 1.1303\n",
      "Epoch 73/80\n",
      "\u001B[1m20/20\u001B[0m \u001B[32m━━━━━━━━━━━━━━━━━━━━\u001B[0m\u001B[37m\u001B[0m \u001B[1m0s\u001B[0m 7ms/step - loss: 1.0213 - val_loss: 1.1381\n",
      "Epoch 74/80\n",
      "\u001B[1m20/20\u001B[0m \u001B[32m━━━━━━━━━━━━━━━━━━━━\u001B[0m\u001B[37m\u001B[0m \u001B[1m0s\u001B[0m 8ms/step - loss: 0.9743 - val_loss: 1.1421\n",
      "Epoch 75/80\n",
      "\u001B[1m20/20\u001B[0m \u001B[32m━━━━━━━━━━━━━━━━━━━━\u001B[0m\u001B[37m\u001B[0m \u001B[1m0s\u001B[0m 7ms/step - loss: 0.9392 - val_loss: 1.1272\n",
      "Epoch 76/80\n",
      "\u001B[1m20/20\u001B[0m \u001B[32m━━━━━━━━━━━━━━━━━━━━\u001B[0m\u001B[37m\u001B[0m \u001B[1m0s\u001B[0m 7ms/step - loss: 1.0467 - val_loss: 1.1329\n",
      "Epoch 77/80\n",
      "\u001B[1m20/20\u001B[0m \u001B[32m━━━━━━━━━━━━━━━━━━━━\u001B[0m\u001B[37m\u001B[0m \u001B[1m0s\u001B[0m 7ms/step - loss: 1.0479 - val_loss: 1.1308\n",
      "Epoch 78/80\n",
      "\u001B[1m20/20\u001B[0m \u001B[32m━━━━━━━━━━━━━━━━━━━━\u001B[0m\u001B[37m\u001B[0m \u001B[1m0s\u001B[0m 7ms/step - loss: 1.0642 - val_loss: 1.1331\n",
      "Epoch 79/80\n",
      "\u001B[1m20/20\u001B[0m \u001B[32m━━━━━━━━━━━━━━━━━━━━\u001B[0m\u001B[37m\u001B[0m \u001B[1m0s\u001B[0m 7ms/step - loss: 1.0003 - val_loss: 1.1469\n",
      "Epoch 80/80\n",
      "\u001B[1m20/20\u001B[0m \u001B[32m━━━━━━━━━━━━━━━━━━━━\u001B[0m\u001B[37m\u001B[0m \u001B[1m0s\u001B[0m 7ms/step - loss: 0.9329 - val_loss: 1.2114\n"
     ]
    }
   ],
   "execution_count": 22
  },
  {
   "metadata": {
    "ExecuteTime": {
     "end_time": "2025-02-03T06:48:41.065693Z",
     "start_time": "2025-02-03T06:48:40.970808Z"
    }
   },
   "cell_type": "code",
   "source": [
    "plt.plot(r.history['loss'], label='loss')\n",
    "plt.plot(r.history['val_loss'], label='val_loss')\n",
    "plt.legend()\n",
    "plt.show()"
   ],
   "id": "258bfca3575e71ad",
   "outputs": [
    {
     "data": {
      "text/plain": [
       "<Figure size 640x480 with 1 Axes>"
      ],
      "image/png": "[encoded data removed]"
     },
     "metadata": {},
     "output_type": "display_data"
    }
   ],
   "execution_count": 23
  },
  {
   "metadata": {
    "ExecuteTime": {
     "end_time": "2025-02-03T06:49:29.968381Z",
     "start_time": "2025-02-03T06:49:29.641558Z"
    }
   },
   "cell_type": "code",
   "source": [
    "outputs = model.predict(X)\n",
    "print(outputs.shape)\n",
    "predictions = outputs[:, 0]\n",
    "\n",
    "plt.plot(Y, label='targets')\n",
    "plt.plot(predictions, label='predictions')\n",
    "plt.legend()\n",
    "plt.show()"
   ],
   "id": "ed7f316e874dd125",
   "outputs": [
    {
     "name": "stdout",
     "output_type": "stream",
     "text": [
      "\u001B[1m39/39\u001B[0m \u001B[32m━━━━━━━━━━━━━━━━━━━━\u001B[0m\u001B[37m\u001B[0m \u001B[1m0s\u001B[0m 2ms/step  \n",
      "(1248, 1)\n"
     ]
    },
    {
     "data": {
      "text/plain": [
       "<Figure size 640x480 with 1 Axes>"
      ],
      "image/png": "[encoded data removed]"
     },
     "metadata": {},
     "output_type": "display_data"
    }
   ],
   "execution_count": 24
  },
  {
   "metadata": {
    "ExecuteTime": {
     "end_time": "2025-02-03T06:50:58.523202Z",
     "start_time": "2025-02-03T06:50:15.337580Z"
    }
   },
   "cell_type": "code",
   "source": [
    "# The code is too slow\n",
    "# # Multi-step forecast\n",
    "# validation_target = Y[-N//2:]\n",
    "# validation_predictions = []\n",
    "#\n",
    "# last_x = X[-N//2]\n",
    "#\n",
    "# while len(validation_predictions) < len(validation_target):\n",
    "#     p = model.predict(last_x.reshape(1, T, 1), verbose=0)[0, 0]\n",
    "#\n",
    "#     validation_predictions.append(p)\n",
    "#\n",
    "#     last_x = np.roll(last_x, -1)\n",
    "#     last_x[-1] = p\n",
    "#\n",
    "# plt.plot(validation_target, label='forecast target')\n",
    "# plt.plot(validation_predictions, label='forecast prediction')\n",
    "# plt.legend()\n",
    "# plt.show()"
   ],
   "id": "91610c1f7ba713a2",
   "outputs": [
    {
     "data": {
      "text/plain": [
       "<Figure size 640x480 with 1 Axes>"
      ],
      "image/png": "[encoded data removed]"
     },
     "metadata": {},
     "output_type": "display_data"
    }
   ],
   "execution_count": 25
  },
  {
   "metadata": {},
   "cell_type": "code",
   "outputs": [],
   "execution_count": null,
   "source": "# I am not going to continue with this notebook",
   "id": "816ff95488089ea1"
  }
 ],
 "metadata": {
  "kernelspec": {
   "display_name": "Python 3",
   "language": "python",
   "name": "python3"
  },
  "language_info": {
   "codemirror_mode": {
    "name": "ipython",
    "version": 2
   },
   "file_extension": ".py",
   "mimetype": "text/x-python",
   "name": "python",
   "nbconvert_exporter": "python",
   "pygments_lexer": "ipython2",
   "version": "2.7.6"
  }
 },
 "nbformat": 4,
 "nbformat_minor": 5
}
