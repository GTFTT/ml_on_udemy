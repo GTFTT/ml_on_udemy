{
 "cells": [
  {
   "cell_type": "code",
   "id": "initial_id",
   "metadata": {
    "collapsed": true,
    "ExecuteTime": {
     "end_time": "2025-02-05T08:01:39.606590Z",
     "start_time": "2025-02-05T08:01:39.601610Z"
    }
   },
   "source": [
    "import tensorflow as tf\n",
    "import numpy as np\n",
    "import pandas as pd\n",
    "import matplotlib.pyplot as plt\n",
    "from sklearn.model_selection import train_test_split\n",
    "from keras import layers, models, optimizers, callbacks, preprocessing"
   ],
   "outputs": [],
   "execution_count": 15
  },
  {
   "metadata": {
    "ExecuteTime": {
     "end_time": "2025-02-05T08:01:39.631765Z",
     "start_time": "2025-02-05T08:01:39.616620Z"
    }
   },
   "cell_type": "code",
   "source": "df = pd.read_csv('../../../data/deep_learning_recurrent_neural_networks_in_python/section_6/spam.csv', encoding='ISO-8859-1')",
   "id": "2a40785f8834d5f5",
   "outputs": [],
   "execution_count": 16
  },
  {
   "metadata": {
    "ExecuteTime": {
     "end_time": "2025-02-05T08:01:39.656218Z",
     "start_time": "2025-02-05T08:01:39.645728Z"
    }
   },
   "cell_type": "code",
   "source": "df",
   "id": "f75babdec663d9c4",
   "outputs": [
    {
     "data": {
      "text/plain": [
       "        v1                                                 v2 Unnamed: 2  \\\n",
       "0      ham  Go until jurong point, crazy.. Available only ...        NaN   \n",
       "1      ham                      Ok lar... Joking wif u oni...        NaN   \n",
       "2     spam  Free entry in 2 a wkly comp to win FA Cup fina...        NaN   \n",
       "3      ham  U dun say so early hor... U c already then say...        NaN   \n",
       "4      ham  Nah I don't think he goes to usf, he lives aro...        NaN   \n",
       "...    ...                                                ...        ...   \n",
       "5567  spam  This is the 2nd time we have tried 2 contact u...        NaN   \n",
       "5568   ham              Will Ì_ b going to esplanade fr home?        NaN   \n",
       "5569   ham  Pity, * was in mood for that. So...any other s...        NaN   \n",
       "5570   ham  The guy did some bitching but I acted like i'd...        NaN   \n",
       "5571   ham                         Rofl. Its true to its name        NaN   \n",
       "\n",
       "     Unnamed: 3 Unnamed: 4  \n",
       "0           NaN        NaN  \n",
       "1           NaN        NaN  \n",
       "2           NaN        NaN  \n",
       "3           NaN        NaN  \n",
       "4           NaN        NaN  \n",
       "...         ...        ...  \n",
       "5567        NaN        NaN  \n",
       "5568        NaN        NaN  \n",
       "5569        NaN        NaN  \n",
       "5570        NaN        NaN  \n",
       "5571        NaN        NaN  \n",
       "\n",
       "[5572 rows x 5 columns]"
      ],
      "text/html": [
       "<div>\n",
       "<style scoped>\n",
       "    .dataframe tbody tr th:only-of-type {\n",
       "        vertical-align: middle;\n",
       "    }\n",
       "\n",
       "    .dataframe tbody tr th {\n",
       "        vertical-align: top;\n",
       "    }\n",
       "\n",
       "    .dataframe thead th {\n",
       "        text-align: right;\n",
       "    }\n",
       "</style>\n",
       "<table border=\"1\" class=\"dataframe\">\n",
       "  <thead>\n",
       "    <tr style=\"text-align: right;\">\n",
       "      <th></th>\n",
       "      <th>v1</th>\n",
       "      <th>v2</th>\n",
       "      <th>Unnamed: 2</th>\n",
       "      <th>Unnamed: 3</th>\n",
       "      <th>Unnamed: 4</th>\n",
       "    </tr>\n",
       "  </thead>\n",
       "  <tbody>\n",
       "    <tr>\n",
       "      <th>0</th>\n",
       "      <td>ham</td>\n",
       "      <td>Go until jurong point, crazy.. Available only ...</td>\n",
       "      <td>NaN</td>\n",
       "      <td>NaN</td>\n",
       "      <td>NaN</td>\n",
       "    </tr>\n",
       "    <tr>\n",
       "      <th>1</th>\n",
       "      <td>ham</td>\n",
       "      <td>Ok lar... Joking wif u oni...</td>\n",
       "      <td>NaN</td>\n",
       "      <td>NaN</td>\n",
       "      <td>NaN</td>\n",
       "    </tr>\n",
       "    <tr>\n",
       "      <th>2</th>\n",
       "      <td>spam</td>\n",
       "      <td>Free entry in 2 a wkly comp to win FA Cup fina...</td>\n",
       "      <td>NaN</td>\n",
       "      <td>NaN</td>\n",
       "      <td>NaN</td>\n",
       "    </tr>\n",
       "    <tr>\n",
       "      <th>3</th>\n",
       "      <td>ham</td>\n",
       "      <td>U dun say so early hor... U c already then say...</td>\n",
       "      <td>NaN</td>\n",
       "      <td>NaN</td>\n",
       "      <td>NaN</td>\n",
       "    </tr>\n",
       "    <tr>\n",
       "      <th>4</th>\n",
       "      <td>ham</td>\n",
       "      <td>Nah I don't think he goes to usf, he lives aro...</td>\n",
       "      <td>NaN</td>\n",
       "      <td>NaN</td>\n",
       "      <td>NaN</td>\n",
       "    </tr>\n",
       "    <tr>\n",
       "      <th>...</th>\n",
       "      <td>...</td>\n",
       "      <td>...</td>\n",
       "      <td>...</td>\n",
       "      <td>...</td>\n",
       "      <td>...</td>\n",
       "    </tr>\n",
       "    <tr>\n",
       "      <th>5567</th>\n",
       "      <td>spam</td>\n",
       "      <td>This is the 2nd time we have tried 2 contact u...</td>\n",
       "      <td>NaN</td>\n",
       "      <td>NaN</td>\n",
       "      <td>NaN</td>\n",
       "    </tr>\n",
       "    <tr>\n",
       "      <th>5568</th>\n",
       "      <td>ham</td>\n",
       "      <td>Will Ì_ b going to esplanade fr home?</td>\n",
       "      <td>NaN</td>\n",
       "      <td>NaN</td>\n",
       "      <td>NaN</td>\n",
       "    </tr>\n",
       "    <tr>\n",
       "      <th>5569</th>\n",
       "      <td>ham</td>\n",
       "      <td>Pity, * was in mood for that. So...any other s...</td>\n",
       "      <td>NaN</td>\n",
       "      <td>NaN</td>\n",
       "      <td>NaN</td>\n",
       "    </tr>\n",
       "    <tr>\n",
       "      <th>5570</th>\n",
       "      <td>ham</td>\n",
       "      <td>The guy did some bitching but I acted like i'd...</td>\n",
       "      <td>NaN</td>\n",
       "      <td>NaN</td>\n",
       "      <td>NaN</td>\n",
       "    </tr>\n",
       "    <tr>\n",
       "      <th>5571</th>\n",
       "      <td>ham</td>\n",
       "      <td>Rofl. Its true to its name</td>\n",
       "      <td>NaN</td>\n",
       "      <td>NaN</td>\n",
       "      <td>NaN</td>\n",
       "    </tr>\n",
       "  </tbody>\n",
       "</table>\n",
       "<p>5572 rows × 5 columns</p>\n",
       "</div>"
      ]
     },
     "execution_count": 17,
     "metadata": {},
     "output_type": "execute_result"
    }
   ],
   "execution_count": 17
  },
  {
   "metadata": {
    "ExecuteTime": {
     "end_time": "2025-02-05T08:01:39.712732Z",
     "start_time": "2025-02-05T08:01:39.706963Z"
    }
   },
   "cell_type": "code",
   "source": "df = df.drop(['Unnamed: 2', 'Unnamed: 3', 'Unnamed: 4'], axis=1)",
   "id": "f6114c31379a4f1e",
   "outputs": [],
   "execution_count": 18
  },
  {
   "metadata": {
    "ExecuteTime": {
     "end_time": "2025-02-05T08:01:39.772009Z",
     "start_time": "2025-02-05T08:01:39.767024Z"
    }
   },
   "cell_type": "code",
   "source": "df.columns = ['labels', 'data']",
   "id": "4d512f65174d1ce7",
   "outputs": [],
   "execution_count": 19
  },
  {
   "metadata": {
    "ExecuteTime": {
     "end_time": "2025-02-05T08:01:39.850227Z",
     "start_time": "2025-02-05T08:01:39.842958Z"
    }
   },
   "cell_type": "code",
   "source": [
    "df['b_labels'] = df['labels'].map({'ham': 0, 'spam': 1})\n",
    "Y = df['b_labels'].values"
   ],
   "id": "4e47a957a2a3a3b9",
   "outputs": [],
   "execution_count": 20
  },
  {
   "metadata": {
    "ExecuteTime": {
     "end_time": "2025-02-05T08:01:39.886573Z",
     "start_time": "2025-02-05T08:01:39.879248Z"
    }
   },
   "cell_type": "code",
   "source": "df_train, df_test, Ytrain, Ytest = train_test_split(df['data'], Y, test_size=0.33)",
   "id": "fbea5d852c292ec2",
   "outputs": [],
   "execution_count": 21
  },
  {
   "metadata": {
    "ExecuteTime": {
     "end_time": "2025-02-05T08:01:39.915379Z",
     "start_time": "2025-02-05T08:01:39.901494Z"
    }
   },
   "cell_type": "code",
   "source": [
    "# create tf dataset\n",
    "train_ds = tf.data.Dataset.from_tensor_slices((df_train.values, Ytrain))\n",
    "test_ds = tf.data.Dataset.from_tensor_slices((df_test.values, Ytest))\n",
    "\n",
    "train_ds"
   ],
   "id": "37ccdf8414b51ba6",
   "outputs": [
    {
     "data": {
      "text/plain": [
       "<_TensorSliceDataset element_spec=(TensorSpec(shape=(), dtype=tf.string, name=None), TensorSpec(shape=(), dtype=tf.int64, name=None))>"
      ]
     },
     "execution_count": 22,
     "metadata": {},
     "output_type": "execute_result"
    }
   ],
   "execution_count": 22
  },
  {
   "metadata": {
    "ExecuteTime": {
     "end_time": "2025-02-05T08:01:53.368621Z",
     "start_time": "2025-02-05T08:01:40.013278Z"
    }
   },
   "cell_type": "code",
   "source": [
    "# convert sentences to sequences\n",
    "MAX_VOCAB_SIZE = 20000\n",
    "vectorization = layers.TextVectorization(max_tokens=MAX_VOCAB_SIZE)\n",
    "vectorization.adapt(train_ds.map(lambda x, y: x))"
   ],
   "id": "a121eabc7838801a",
   "outputs": [],
   "execution_count": 23
  },
  {
   "metadata": {
    "ExecuteTime": {
     "end_time": "2025-02-05T08:01:53.393940Z",
     "start_time": "2025-02-05T08:01:53.380829Z"
    }
   },
   "cell_type": "code",
   "source": [
    "# shuffle and batch the dataset\n",
    "train_ds = train_ds.shuffle(10000).batch(32).prefetch(tf.data.AUTOTUNE)\n",
    "test_ds = test_ds.batch(32).prefetch(tf.data.AUTOTUNE)"
   ],
   "id": "d2599fc25b5f61ce",
   "outputs": [],
   "execution_count": 24
  },
  {
   "metadata": {
    "ExecuteTime": {
     "end_time": "2025-02-05T08:02:01.350234Z",
     "start_time": "2025-02-05T08:02:01.327933Z"
    }
   },
   "cell_type": "code",
   "source": "V = len(vectorization.get_vocabulary())",
   "id": "cf3a350b6794944c",
   "outputs": [],
   "execution_count": 25
  },
  {
   "metadata": {
    "ExecuteTime": {
     "end_time": "2025-02-05T08:08:57.980331Z",
     "start_time": "2025-02-05T08:08:42.536446Z"
    }
   },
   "cell_type": "code",
   "source": [
    "# create the model\n",
    "D = 20 # Embedding dimensionality\n",
    "M = 15 # Hidden layer size\n",
    "\n",
    "# input is a string(text to analyze)\n",
    "i = layers.Input(shape=(1,), dtype=tf.string)\n",
    "x = vectorization(i)\n",
    "x = layers.Embedding(V + 1, D)(x)\n",
    "x = layers.LSTM(M, return_sequences=True)(x)\n",
    "x = layers.GlobalMaxPooling1D()(x)\n",
    "x = layers.Dense(1, activation='sigmoid')(x)\n",
    "\n",
    "model = models.Model(i, x)\n",
    "\n",
    "model.compile(\n",
    "    loss='binary_crossentropy',\n",
    "    optimizer='adam',\n",
    "    metrics=['accuracy']\n",
    ")\n",
    "\n",
    "model.fit(train_ds, validation_data=test_ds, epochs=10, verbose=2)"
   ],
   "id": "dcce31cb289bde9d",
   "outputs": [
    {
     "name": "stdout",
     "output_type": "stream",
     "text": [
      "Epoch 1/10\n",
      "117/117 - 3s - 29ms/step - accuracy: 0.8594 - loss: 0.4478 - val_accuracy: 0.8798 - val_loss: 0.3479\n",
      "Epoch 2/10\n",
      "117/117 - 1s - 11ms/step - accuracy: 0.9336 - loss: 0.2199 - val_accuracy: 0.9750 - val_loss: 0.1238\n",
      "Epoch 3/10\n",
      "117/117 - 1s - 11ms/step - accuracy: 0.9764 - loss: 0.1101 - val_accuracy: 0.9804 - val_loss: 0.0913\n",
      "Epoch 4/10\n",
      "117/117 - 1s - 11ms/step - accuracy: 0.9847 - loss: 0.0732 - val_accuracy: 0.9842 - val_loss: 0.0713\n",
      "Epoch 5/10\n",
      "117/117 - 1s - 11ms/step - accuracy: 0.9930 - loss: 0.0446 - val_accuracy: 0.9864 - val_loss: 0.0607\n",
      "Epoch 6/10\n",
      "117/117 - 1s - 12ms/step - accuracy: 0.9954 - loss: 0.0318 - val_accuracy: 0.9869 - val_loss: 0.0606\n",
      "Epoch 7/10\n",
      "117/117 - 1s - 11ms/step - accuracy: 0.9885 - loss: 0.0468 - val_accuracy: 0.9875 - val_loss: 0.0536\n",
      "Epoch 8/10\n",
      "117/117 - 1s - 11ms/step - accuracy: 0.9971 - loss: 0.0193 - val_accuracy: 0.9875 - val_loss: 0.0592\n",
      "Epoch 9/10\n",
      "117/117 - 1s - 11ms/step - accuracy: 0.9987 - loss: 0.0127 - val_accuracy: 0.9853 - val_loss: 0.0668\n",
      "Epoch 10/10\n",
      "117/117 - 1s - 11ms/step - accuracy: 0.9997 - loss: 0.0083 - val_accuracy: 0.9853 - val_loss: 0.0658\n"
     ]
    },
    {
     "data": {
      "text/plain": [
       "<keras.src.callbacks.history.History at 0x1e599574da0>"
      ]
     },
     "execution_count": 26,
     "metadata": {},
     "output_type": "execute_result"
    }
   ],
   "execution_count": 26
  },
  {
   "metadata": {
    "ExecuteTime": {
     "end_time": "2025-02-05T08:09:24.678337Z",
     "start_time": "2025-02-05T08:09:24.511758Z"
    }
   },
   "cell_type": "code",
   "source": [
    "plt.plot(model.history.history['loss'], label='loss')\n",
    "plt.plot(model.history.history['val_loss'], label='val_loss')\n",
    "plt.legend()\n",
    "plt.show()"
   ],
   "id": "3c957e00425cd7c6",
   "outputs": [
    {
     "data": {
      "text/plain": [
       "<Figure size 640x480 with 1 Axes>"
      ],
      "image/png": "[encoded data removed]"
     },
     "metadata": {},
     "output_type": "display_data"
    }
   ],
   "execution_count": 27
  },
  {
   "metadata": {
    "ExecuteTime": {
     "end_time": "2025-02-05T08:09:55.994890Z",
     "start_time": "2025-02-05T08:09:55.904610Z"
    }
   },
   "cell_type": "code",
   "source": [
    "plt.plot(model.history.history['accuracy'], label='accuracy')\n",
    "plt.plot(model.history.history['val_accuracy'], label='val_accuracy')\n",
    "plt.legend()\n",
    "plt.show()"
   ],
   "id": "9d473a4a4fdd351",
   "outputs": [
    {
     "data": {
      "text/plain": [
       "<Figure size 640x480 with 1 Axes>"
      ],
      "image/png": "[encoded data removed]"
     },
     "metadata": {},
     "output_type": "display_data"
    }
   ],
   "execution_count": 28
  },
  {
   "metadata": {
    "ExecuteTime": {
     "end_time": "2025-02-05T08:11:43.560487Z",
     "start_time": "2025-02-05T08:11:43.482504Z"
    }
   },
   "cell_type": "code",
   "source": [
    "df['labels'].hist()\n",
    "# So here we can see imbalanced data"
   ],
   "id": "c6e20e26c07bd063",
   "outputs": [
    {
     "data": {
      "text/plain": [
       "<Axes: >"
      ]
     },
     "execution_count": 30,
     "metadata": {},
     "output_type": "execute_result"
    },
    {
     "data": {
      "text/plain": [
       "<Figure size 640x480 with 1 Axes>"
      ],
      "image/png": "[encoded data removed]"
     },
     "metadata": {},
     "output_type": "display_data"
    }
   ],
   "execution_count": 30
  },
  {
   "metadata": {
    "ExecuteTime": {
     "end_time": "2025-02-05T08:13:47.918130Z",
     "start_time": "2025-02-05T08:13:47.781174Z"
    }
   },
   "cell_type": "code",
   "source": [
    "from sklearn.metrics import f1_score\n",
    "f1_score(Ytrain, (model.predict(df_train) > 0.5).astype('int'))"
   ],
   "id": "3178cc14e2ad5df2",
   "outputs": [
    {
     "ename": "ValueError",
     "evalue": "Invalid dtype: object",
     "output_type": "error",
     "traceback": [
      "\u001B[1;31m---------------------------------------------------------------------------\u001B[0m",
      "\u001B[1;31mValueError\u001B[0m                                Traceback (most recent call last)",
      "Cell \u001B[1;32mIn[32], line 2\u001B[0m\n\u001B[0;32m      1\u001B[0m \u001B[38;5;28;01mfrom\u001B[39;00m\u001B[38;5;250m \u001B[39m\u001B[38;5;21;01msklearn\u001B[39;00m\u001B[38;5;21;01m.\u001B[39;00m\u001B[38;5;21;01mmetrics\u001B[39;00m\u001B[38;5;250m \u001B[39m\u001B[38;5;28;01mimport\u001B[39;00m f1_score\n\u001B[1;32m----> 2\u001B[0m f1_score(Ytrain, (\u001B[43mmodel\u001B[49m\u001B[38;5;241;43m.\u001B[39;49m\u001B[43mpredict\u001B[49m\u001B[43m(\u001B[49m\u001B[43mdf_train\u001B[49m\u001B[43m)\u001B[49m \u001B[38;5;241m>\u001B[39m \u001B[38;5;241m0.5\u001B[39m)\u001B[38;5;241m.\u001B[39mastype(\u001B[38;5;124m'\u001B[39m\u001B[38;5;124mint\u001B[39m\u001B[38;5;124m'\u001B[39m))\n",
      "File \u001B[1;32mD:\\ProjectsPyCharm\\ml_on_udemy\\.venv\\Lib\\site-packages\\keras\\src\\utils\\traceback_utils.py:122\u001B[0m, in \u001B[0;36mfilter_traceback.<locals>.error_handler\u001B[1;34m(*args, **kwargs)\u001B[0m\n\u001B[0;32m    119\u001B[0m     filtered_tb \u001B[38;5;241m=\u001B[39m _process_traceback_frames(e\u001B[38;5;241m.\u001B[39m__traceback__)\n\u001B[0;32m    120\u001B[0m     \u001B[38;5;66;03m# To get the full stack trace, call:\u001B[39;00m\n\u001B[0;32m    121\u001B[0m     \u001B[38;5;66;03m# `keras.config.disable_traceback_filtering()`\u001B[39;00m\n\u001B[1;32m--> 122\u001B[0m     \u001B[38;5;28;01mraise\u001B[39;00m e\u001B[38;5;241m.\u001B[39mwith_traceback(filtered_tb) \u001B[38;5;28;01mfrom\u001B[39;00m\u001B[38;5;250m \u001B[39m\u001B[38;5;28;01mNone\u001B[39;00m\n\u001B[0;32m    123\u001B[0m \u001B[38;5;28;01mfinally\u001B[39;00m:\n\u001B[0;32m    124\u001B[0m     \u001B[38;5;28;01mdel\u001B[39;00m filtered_tb\n",
      "File \u001B[1;32mD:\\ProjectsPyCharm\\ml_on_udemy\\.venv\\Lib\\site-packages\\optree\\ops.py:766\u001B[0m, in \u001B[0;36mtree_map\u001B[1;34m(func, tree, is_leaf, none_is_leaf, namespace, *rests)\u001B[0m\n\u001B[0;32m    764\u001B[0m leaves, treespec \u001B[38;5;241m=\u001B[39m _C\u001B[38;5;241m.\u001B[39mflatten(tree, is_leaf, none_is_leaf, namespace)\n\u001B[0;32m    765\u001B[0m flat_args \u001B[38;5;241m=\u001B[39m [leaves] \u001B[38;5;241m+\u001B[39m [treespec\u001B[38;5;241m.\u001B[39mflatten_up_to(r) \u001B[38;5;28;01mfor\u001B[39;00m r \u001B[38;5;129;01min\u001B[39;00m rests]\n\u001B[1;32m--> 766\u001B[0m \u001B[38;5;28;01mreturn\u001B[39;00m \u001B[43mtreespec\u001B[49m\u001B[38;5;241;43m.\u001B[39;49m\u001B[43munflatten\u001B[49m\u001B[43m(\u001B[49m\u001B[38;5;28;43mmap\u001B[39;49m\u001B[43m(\u001B[49m\u001B[43mfunc\u001B[49m\u001B[43m,\u001B[49m\u001B[43m \u001B[49m\u001B[38;5;241;43m*\u001B[39;49m\u001B[43mflat_args\u001B[49m\u001B[43m)\u001B[49m\u001B[43m)\u001B[49m\n",
      "\u001B[1;31mValueError\u001B[0m: Invalid dtype: object"
     ]
    }
   ],
   "execution_count": 32
  },
  {
   "metadata": {
    "ExecuteTime": {
     "end_time": "2025-02-05T08:14:18.736820Z",
     "start_time": "2025-02-05T08:14:18.689567Z"
    }
   },
   "cell_type": "code",
   "source": "f1_score(Ytest, (model.predict(df_test) > 0.5).astype('int'))",
   "id": "ea58a02fb3029620",
   "outputs": [
    {
     "ename": "ValueError",
     "evalue": "Invalid dtype: object",
     "output_type": "error",
     "traceback": [
      "\u001B[1;31m---------------------------------------------------------------------------\u001B[0m",
      "\u001B[1;31mValueError\u001B[0m                                Traceback (most recent call last)",
      "Cell \u001B[1;32mIn[33], line 1\u001B[0m\n\u001B[1;32m----> 1\u001B[0m f1_score(Ytest, (\u001B[43mmodel\u001B[49m\u001B[38;5;241;43m.\u001B[39;49m\u001B[43mpredict\u001B[49m\u001B[43m(\u001B[49m\u001B[43mdf_test\u001B[49m\u001B[43m)\u001B[49m \u001B[38;5;241m>\u001B[39m \u001B[38;5;241m0.5\u001B[39m)\u001B[38;5;241m.\u001B[39mastype(\u001B[38;5;124m'\u001B[39m\u001B[38;5;124mint\u001B[39m\u001B[38;5;124m'\u001B[39m))\n",
      "File \u001B[1;32mD:\\ProjectsPyCharm\\ml_on_udemy\\.venv\\Lib\\site-packages\\keras\\src\\utils\\traceback_utils.py:122\u001B[0m, in \u001B[0;36mfilter_traceback.<locals>.error_handler\u001B[1;34m(*args, **kwargs)\u001B[0m\n\u001B[0;32m    119\u001B[0m     filtered_tb \u001B[38;5;241m=\u001B[39m _process_traceback_frames(e\u001B[38;5;241m.\u001B[39m__traceback__)\n\u001B[0;32m    120\u001B[0m     \u001B[38;5;66;03m# To get the full stack trace, call:\u001B[39;00m\n\u001B[0;32m    121\u001B[0m     \u001B[38;5;66;03m# `keras.config.disable_traceback_filtering()`\u001B[39;00m\n\u001B[1;32m--> 122\u001B[0m     \u001B[38;5;28;01mraise\u001B[39;00m e\u001B[38;5;241m.\u001B[39mwith_traceback(filtered_tb) \u001B[38;5;28;01mfrom\u001B[39;00m\u001B[38;5;250m \u001B[39m\u001B[38;5;28;01mNone\u001B[39;00m\n\u001B[0;32m    123\u001B[0m \u001B[38;5;28;01mfinally\u001B[39;00m:\n\u001B[0;32m    124\u001B[0m     \u001B[38;5;28;01mdel\u001B[39;00m filtered_tb\n",
      "File \u001B[1;32mD:\\ProjectsPyCharm\\ml_on_udemy\\.venv\\Lib\\site-packages\\optree\\ops.py:766\u001B[0m, in \u001B[0;36mtree_map\u001B[1;34m(func, tree, is_leaf, none_is_leaf, namespace, *rests)\u001B[0m\n\u001B[0;32m    764\u001B[0m leaves, treespec \u001B[38;5;241m=\u001B[39m _C\u001B[38;5;241m.\u001B[39mflatten(tree, is_leaf, none_is_leaf, namespace)\n\u001B[0;32m    765\u001B[0m flat_args \u001B[38;5;241m=\u001B[39m [leaves] \u001B[38;5;241m+\u001B[39m [treespec\u001B[38;5;241m.\u001B[39mflatten_up_to(r) \u001B[38;5;28;01mfor\u001B[39;00m r \u001B[38;5;129;01min\u001B[39;00m rests]\n\u001B[1;32m--> 766\u001B[0m \u001B[38;5;28;01mreturn\u001B[39;00m \u001B[43mtreespec\u001B[49m\u001B[38;5;241;43m.\u001B[39;49m\u001B[43munflatten\u001B[49m\u001B[43m(\u001B[49m\u001B[38;5;28;43mmap\u001B[39;49m\u001B[43m(\u001B[49m\u001B[43mfunc\u001B[49m\u001B[43m,\u001B[49m\u001B[43m \u001B[49m\u001B[38;5;241;43m*\u001B[39;49m\u001B[43mflat_args\u001B[49m\u001B[43m)\u001B[49m\u001B[43m)\u001B[49m\n",
      "\u001B[1;31mValueError\u001B[0m: Invalid dtype: object"
     ]
    }
   ],
   "execution_count": 33
  },
  {
   "metadata": {
    "ExecuteTime": {
     "end_time": "2025-02-05T08:32:51.570132Z",
     "start_time": "2025-02-05T08:32:51.490522Z"
    }
   },
   "cell_type": "code",
   "source": [
    "train_ints = vectorization(np.array([[s] for s in df_train.values])).numpy()\n",
    "test_ints = vectorization(np.array([[s] for s in df_test.values])).numpy()\n",
    "\n",
    "train_ints.shape"
   ],
   "id": "f037fc6d61b7cefb",
   "outputs": [
    {
     "data": {
      "text/plain": [
       "(3733, 171)"
      ]
     },
     "execution_count": 34,
     "metadata": {},
     "output_type": "execute_result"
    }
   ],
   "execution_count": 34
  },
  {
   "metadata": {
    "ExecuteTime": {
     "end_time": "2025-02-05T08:35:24.639171Z",
     "start_time": "2025-02-05T08:35:24.627234Z"
    }
   },
   "cell_type": "code",
   "source": [
    "# create tf dataset\n",
    "train_ds = tf.data.Dataset.from_tensor_slices((train_ints, Ytrain))\n",
    "test_ds = tf.data.Dataset.from_tensor_slices((test_ints, Ytest))\n",
    "\n",
    "train_ds"
   ],
   "id": "a9abe5e75936690d",
   "outputs": [
    {
     "data": {
      "text/plain": [
       "<_TensorSliceDataset element_spec=(TensorSpec(shape=(171,), dtype=tf.int64, name=None), TensorSpec(shape=(), dtype=tf.int64, name=None))>"
      ]
     },
     "execution_count": 36,
     "metadata": {},
     "output_type": "execute_result"
    }
   ],
   "execution_count": 36
  },
  {
   "metadata": {
    "ExecuteTime": {
     "end_time": "2025-02-05T08:35:51.387346Z",
     "start_time": "2025-02-05T08:35:51.375251Z"
    }
   },
   "cell_type": "code",
   "source": [
    "# shuffle and batch the dataset\n",
    "train_ds = train_ds.shuffle(10000).batch(32).prefetch(tf.data.AUTOTUNE)\n",
    "test_ds = test_ds.batch(32).prefetch(tf.data.AUTOTUNE)"
   ],
   "id": "1ee9d5d2579733a3",
   "outputs": [],
   "execution_count": 37
  },
  {
   "metadata": {
    "ExecuteTime": {
     "end_time": "2025-02-05T08:38:39.421076Z",
     "start_time": "2025-02-05T08:37:57.080395Z"
    }
   },
   "cell_type": "code",
   "source": [
    "# create the model\n",
    "D = 20 # Embedding dimensionality\n",
    "M = 15 # Hidden layer size\n",
    "\n",
    "# input is a string(text to analyze)\n",
    "i = layers.Input(shape=(None,))\n",
    "x = layers.Embedding(V + 1, D)(i)\n",
    "x = layers.LSTM(M, return_sequences=True)(x)\n",
    "x = layers.GlobalMaxPooling1D()(x)\n",
    "x = layers.Dense(1, activation='sigmoid')(x)\n",
    "\n",
    "model = models.Model(i, x)\n",
    "\n",
    "model.compile(\n",
    "    loss='binary_crossentropy',\n",
    "    optimizer='adam',\n",
    "    metrics=['accuracy']\n",
    ")\n",
    "\n",
    "model.fit(train_ds, validation_data=test_ds, epochs=10, verbose=2)"
   ],
   "id": "fe3c34b72a60afc0",
   "outputs": [
    {
     "name": "stdout",
     "output_type": "stream",
     "text": [
      "Epoch 1/10\n",
      "117/117 - 6s - 50ms/step - accuracy: 0.8411 - loss: 0.5049 - val_accuracy: 0.9581 - val_loss: 0.2655\n",
      "Epoch 2/10\n",
      "117/117 - 4s - 35ms/step - accuracy: 0.9577 - loss: 0.2080 - val_accuracy: 0.9755 - val_loss: 0.1417\n",
      "Epoch 3/10\n",
      "117/117 - 4s - 35ms/step - accuracy: 0.9796 - loss: 0.1204 - val_accuracy: 0.9782 - val_loss: 0.1129\n",
      "Epoch 4/10\n",
      "117/117 - 4s - 35ms/step - accuracy: 0.9845 - loss: 0.0896 - val_accuracy: 0.9799 - val_loss: 0.0989\n",
      "Epoch 5/10\n",
      "117/117 - 4s - 35ms/step - accuracy: 0.9877 - loss: 0.0668 - val_accuracy: 0.9804 - val_loss: 0.0829\n",
      "Epoch 6/10\n",
      "117/117 - 4s - 34ms/step - accuracy: 0.9786 - loss: 0.0901 - val_accuracy: 0.9728 - val_loss: 0.1055\n",
      "Epoch 7/10\n",
      "117/117 - 4s - 34ms/step - accuracy: 0.9898 - loss: 0.0486 - val_accuracy: 0.9826 - val_loss: 0.0760\n",
      "Epoch 8/10\n",
      "117/117 - 4s - 34ms/step - accuracy: 0.9928 - loss: 0.0384 - val_accuracy: 0.9837 - val_loss: 0.0714\n",
      "Epoch 9/10\n",
      "117/117 - 4s - 34ms/step - accuracy: 0.9930 - loss: 0.0340 - val_accuracy: 0.9826 - val_loss: 0.0759\n",
      "Epoch 10/10\n",
      "117/117 - 4s - 35ms/step - accuracy: 0.9930 - loss: 0.0313 - val_accuracy: 0.9826 - val_loss: 0.0745\n"
     ]
    },
    {
     "data": {
      "text/plain": [
       "<keras.src.callbacks.history.History at 0x1e5b1793800>"
      ]
     },
     "execution_count": 38,
     "metadata": {},
     "output_type": "execute_result"
    }
   ],
   "execution_count": 38
  }
 ],
 "metadata": {
  "kernelspec": {
   "display_name": "Python 3",
   "language": "python",
   "name": "python3"
  },
  "language_info": {
   "codemirror_mode": {
    "name": "ipython",
    "version": 2
   },
   "file_extension": ".py",
   "mimetype": "text/x-python",
   "name": "python",
   "nbconvert_exporter": "python",
   "pygments_lexer": "ipython2",
   "version": "2.7.6"
  }
 },
 "nbformat": 4,
 "nbformat_minor": 5
}
